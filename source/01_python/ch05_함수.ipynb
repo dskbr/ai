{
 "cells": [
  {
   "cell_type": "code",
   "execution_count": 1,
   "id": "e7abaaed",
   "metadata": {},
   "outputs": [
    {
     "data": {
      "text/html": [
       "\n",
       "<style>\n",
       "div.container{width:90% !important;}\n",
       "div.cell.code_cell.rendered{width:100%;}\n",
       "div.input_prompt{padding:0px;}\n",
       "div.CodeMirror {font-family:Consolas; font-size:14pt;}\n",
       "div.text_cell_render.rendered_html{font-size:14pt;}\n",
       "div.output {font-size:14pt; font-weight:bold;}\n",
       "div.input {font-family:Consolas; font-size:14pt;}\n",
       "div.prompt {min-width:70px;}\n",
       "div#toc-wrapper{padding-top:120px;}\n",
       "div.text_cell_render ul li{font-size:14pt;padding:5px;}\n",
       "table.dataframe{font-size:14px;}\n",
       "</style>\n"
      ],
      "text/plain": [
       "<IPython.core.display.HTML object>"
      ]
     },
     "metadata": {},
     "output_type": "display_data"
    }
   ],
   "source": [
    "from IPython.display import display, HTML\n",
    "display(HTML(\"\"\"\n",
    "<style>\n",
    "div.container{width:90% !important;}\n",
    "div.cell.code_cell.rendered{width:100%;}\n",
    "div.input_prompt{padding:0px;}\n",
    "div.CodeMirror {font-family:Consolas; font-size:14pt;}\n",
    "div.text_cell_render.rendered_html{font-size:14pt;}\n",
    "div.output {font-size:14pt; font-weight:bold;}\n",
    "div.input {font-family:Consolas; font-size:14pt;}\n",
    "div.prompt {min-width:70px;}\n",
    "div#toc-wrapper{padding-top:120px;}\n",
    "div.text_cell_render ul li{font-size:14pt;padding:5px;}\n",
    "table.dataframe{font-size:14px;}\n",
    "</style>\n",
    "\"\"\"))"
   ]
  },
  {
   "cell_type": "markdown",
   "id": "e872ba72",
   "metadata": {},
   "source": [
    "<b><font size=\"7\" color=\"red\">ch05. 함수</font></b>\n",
    "- 반복해서 사용할 코드를 묶어 놓고 그것에 이름을 붙인것\n",
    "- 오버로딩 불가(같은이름의 함수는 덮어씀)\n",
    "- 함수 정의\n",
    "```\n",
    "def 함수명([매개변수1, 매개변수2, ..]):\n",
    "    명령어1\n",
    "    명령어2....\n",
    "```\n",
    "# 1절 함수의 정의 및 사용\n",
    "## 1.1 함수 정의"
   ]
  },
  {
   "cell_type": "code",
   "execution_count": 2,
   "id": "42711d89",
   "metadata": {},
   "outputs": [],
   "source": [
    "def my_message(x, msg): # msg를 x번 출력하는 함수\n",
    "    for i in range(x):\n",
    "        print(i, msg)"
   ]
  },
  {
   "cell_type": "code",
   "execution_count": 3,
   "id": "7ee0ecbd",
   "metadata": {},
   "outputs": [
    {
     "name": "stdout",
     "output_type": "stream",
     "text": [
      "0 Hello\n",
      "1 Hello\n",
      "2 Hello\n"
     ]
    }
   ],
   "source": [
    "# 함수 사용 == 함수 호출\n",
    "my_message(3, 'Hello')"
   ]
  },
  {
   "cell_type": "code",
   "execution_count": 4,
   "id": "ca3c294d",
   "metadata": {},
   "outputs": [
    {
     "name": "stdout",
     "output_type": "stream",
     "text": [
      "0 Hello\n",
      "1 Hello\n",
      "0 Pytton\n",
      "1 Pytton\n",
      "2 Pytton\n"
     ]
    }
   ],
   "source": [
    "# 함수 이름 변경\n",
    "my_msg = my_message\n",
    "my_message(2, 'Hello')\n",
    "my_msg(3, 'Pytton')"
   ]
  },
  {
   "cell_type": "code",
   "execution_count": 5,
   "id": "ddaddcc4",
   "metadata": {},
   "outputs": [
    {
     "data": {
      "text/plain": [
       "(function, function)"
      ]
     },
     "execution_count": 5,
     "metadata": {},
     "output_type": "execute_result"
    }
   ],
   "source": [
    "type(my_msg), type(my_message)"
   ]
  },
  {
   "cell_type": "code",
   "execution_count": 6,
   "id": "9c8202a2",
   "metadata": {},
   "outputs": [
    {
     "name": "stdout",
     "output_type": "stream",
     "text": [
      "Hello\n"
     ]
    }
   ],
   "source": [
    "print('Hello') # 파이썬 내장 함수(import 하지 않고 사용할 수 있는 함수)\n",
    "print = 5\n",
    "# print('Hello')"
   ]
  },
  {
   "cell_type": "code",
   "execution_count": 7,
   "id": "db9c1df3",
   "metadata": {},
   "outputs": [
    {
     "name": "stdout",
     "output_type": "stream",
     "text": [
      "Hello\n"
     ]
    }
   ],
   "source": [
    "del print\n",
    "print('Hello')"
   ]
  },
  {
   "cell_type": "code",
   "execution_count": 8,
   "id": "3c337de6",
   "metadata": {},
   "outputs": [
    {
     "name": "stdout",
     "output_type": "stream",
     "text": [
      "0 Hello\n",
      "1 Hello\n"
     ]
    }
   ],
   "source": [
    "my_message(2, 'Hello')"
   ]
  },
  {
   "cell_type": "code",
   "execution_count": 9,
   "id": "5f0d3886",
   "metadata": {},
   "outputs": [
    {
     "name": "stdout",
     "output_type": "stream",
     "text": [
      "0 Hello\n",
      "1 Hello\n"
     ]
    }
   ],
   "source": [
    "my_message = 5\n",
    "my_msg(2, 'Hello')"
   ]
  },
  {
   "cell_type": "code",
   "execution_count": 10,
   "id": "d83bf912",
   "metadata": {},
   "outputs": [
    {
     "ename": "TypeError",
     "evalue": "'int' object is not callable",
     "output_type": "error",
     "traceback": [
      "\u001b[1;31m---------------------------------------------------------------------------\u001b[0m",
      "\u001b[1;31mTypeError\u001b[0m                                 Traceback (most recent call last)",
      "Cell \u001b[1;32mIn[10], line 1\u001b[0m\n\u001b[1;32m----> 1\u001b[0m \u001b[43mmy_message\u001b[49m\u001b[43m(\u001b[49m\u001b[38;5;241;43m2\u001b[39;49m\u001b[43m,\u001b[49m\u001b[43m \u001b[49m\u001b[38;5;124;43m'\u001b[39;49m\u001b[38;5;124;43mHello\u001b[39;49m\u001b[38;5;124;43m'\u001b[39;49m\u001b[43m)\u001b[49m\n",
      "\u001b[1;31mTypeError\u001b[0m: 'int' object is not callable"
     ]
    }
   ],
   "source": [
    "my_message(2, 'Hello')"
   ]
  },
  {
   "cell_type": "code",
   "execution_count": 12,
   "id": "e0ca3398",
   "metadata": {},
   "outputs": [
    {
     "ename": "NameError",
     "evalue": "name 'my_messag' is not defined",
     "output_type": "error",
     "traceback": [
      "\u001b[1;31m---------------------------------------------------------------------------\u001b[0m",
      "\u001b[1;31mNameError\u001b[0m                                 Traceback (most recent call last)",
      "Cell \u001b[1;32mIn[12], line 1\u001b[0m\n\u001b[1;32m----> 1\u001b[0m \u001b[38;5;28;01mdel\u001b[39;00m my_messag \u001b[38;5;66;03m# 변수 및 함수 제거하여도\u001b[39;00m\n\u001b[0;32m      2\u001b[0m my_message(\u001b[38;5;241m2\u001b[39m, \u001b[38;5;124m'\u001b[39m\u001b[38;5;124mHello\u001b[39m\u001b[38;5;124m'\u001b[39m)\n",
      "\u001b[1;31mNameError\u001b[0m: name 'my_messag' is not defined"
     ]
    }
   ],
   "source": [
    "del my_messag # 변수 및 함수 제거하여도\n",
    "my_message(2, 'Hello') # 사용자 정의 함수, 라이브러리 함수는 사용 불가"
   ]
  },
  {
   "cell_type": "code",
   "execution_count": 13,
   "id": "5224b922",
   "metadata": {},
   "outputs": [],
   "source": [
    "# 함수 중복 정의 불가(오버로딩 불가)\n",
    "def my_hello():\n",
    "    print('Hello Python')\n",
    "    print('Hello world')\n",
    "def my_hello(cnt): # cnt번 출력\n",
    "    for i in range(cnt):\n",
    "        print('Hello Python', end=\"\\t\")\n",
    "        print('Hello world')"
   ]
  },
  {
   "cell_type": "code",
   "execution_count": 14,
   "id": "e9239d59",
   "metadata": {},
   "outputs": [
    {
     "ename": "TypeError",
     "evalue": "my_hello() missing 1 required positional argument: 'cnt'",
     "output_type": "error",
     "traceback": [
      "\u001b[1;31m---------------------------------------------------------------------------\u001b[0m",
      "\u001b[1;31mTypeError\u001b[0m                                 Traceback (most recent call last)",
      "Cell \u001b[1;32mIn[14], line 1\u001b[0m\n\u001b[1;32m----> 1\u001b[0m \u001b[43mmy_hello\u001b[49m\u001b[43m(\u001b[49m\u001b[43m)\u001b[49m\n",
      "\u001b[1;31mTypeError\u001b[0m: my_hello() missing 1 required positional argument: 'cnt'"
     ]
    }
   ],
   "source": [
    "my_hello()"
   ]
  },
  {
   "cell_type": "code",
   "execution_count": 15,
   "id": "07ed0d1d",
   "metadata": {},
   "outputs": [
    {
     "name": "stdout",
     "output_type": "stream",
     "text": [
      "Hello Python\tHello world\n",
      "Hello Python\tHello world\n"
     ]
    }
   ],
   "source": [
    "my_hello(2)"
   ]
  },
  {
   "cell_type": "code",
   "execution_count": 16,
   "id": "9d862e61",
   "metadata": {},
   "outputs": [
    {
     "data": {
      "text/plain": [
       "<function __main__.my_hello(cnt)>"
      ]
     },
     "execution_count": 16,
     "metadata": {},
     "output_type": "execute_result"
    }
   ],
   "source": [
    "my_hello"
   ]
  },
  {
   "cell_type": "code",
   "execution_count": 17,
   "id": "9f7c15f8",
   "metadata": {},
   "outputs": [
    {
     "data": {
      "text/plain": [
       "'__main__'"
      ]
     },
     "execution_count": 17,
     "metadata": {},
     "output_type": "execute_result"
    }
   ],
   "source": [
    "__name__"
   ]
  },
  {
   "cell_type": "code",
   "execution_count": 18,
   "id": "fcc4b398",
   "metadata": {},
   "outputs": [
    {
     "name": "stdout",
     "output_type": "stream",
     "text": [
      "Hello Python\tHello world\n",
      "Hello Python\tHello world\n"
     ]
    }
   ],
   "source": [
    "if __name__ =='__main__':\n",
    "    my_hello(2)"
   ]
  },
  {
   "cell_type": "code",
   "execution_count": 19,
   "id": "2784aaa9",
   "metadata": {},
   "outputs": [],
   "source": [
    "import ch05 # ch05 모듈이 해석되서 메모리 로드"
   ]
  },
  {
   "cell_type": "code",
   "execution_count": 20,
   "id": "0f11fafa",
   "metadata": {},
   "outputs": [
    {
     "name": "stdout",
     "output_type": "stream",
     "text": [
      "ch05\n",
      "Hello, Python\tHello, World\n",
      "Hello, Python\tHello, World\n",
      "Hello, Python\tHello, World\n"
     ]
    }
   ],
   "source": [
    "ch05.my_hello(3)"
   ]
  },
  {
   "cell_type": "code",
   "execution_count": 21,
   "id": "765ada1f",
   "metadata": {},
   "outputs": [],
   "source": [
    "from ch05 import my_hello # ch05 모듈안의 my_hello만 메모리 로드"
   ]
  },
  {
   "cell_type": "code",
   "execution_count": 22,
   "id": "bf126662",
   "metadata": {},
   "outputs": [
    {
     "name": "stdout",
     "output_type": "stream",
     "text": [
      "ch05\n",
      "Hello, Python\tHello, World\n",
      "Hello, Python\tHello, World\n",
      "Hello, Python\tHello, World\n"
     ]
    }
   ],
   "source": [
    "my_hello(3)"
   ]
  },
  {
   "cell_type": "markdown",
   "id": "b58e9c3d",
   "metadata": {},
   "source": [
    "## 1.2 docstring"
   ]
  },
  {
   "cell_type": "code",
   "execution_count": 23,
   "id": "cfdc7e0f",
   "metadata": {},
   "outputs": [],
   "source": [
    "def my_function():\n",
    "    \"\"\"\n",
    "    함수의 첫라인에 독스트링을 포함할 수 있습니다\n",
    "    독스트링은 함수의 설명서를 달아주는 역할\n",
    "    주석보다 많은 기능(함수 호출시 shift+tab으로 독스트링을 볼 수 있음)\n",
    "    \"\"\"\n",
    "    pass"
   ]
  },
  {
   "cell_type": "code",
   "execution_count": 24,
   "id": "f5284eaf",
   "metadata": {},
   "outputs": [
    {
     "name": "stdout",
     "output_type": "stream",
     "text": [
      "\n",
      "    함수의 첫라인에 독스트링을 포함할 수 있습니다\n",
      "    독스트링은 함수의 설명서를 달아주는 역할\n",
      "    주석보다 많은 기능(함수 호출시 shift+tab으로 독스트링을 볼 수 있음)\n",
      "    \n"
     ]
    }
   ],
   "source": [
    "print(my_function.__doc__)"
   ]
  },
  {
   "cell_type": "code",
   "execution_count": 25,
   "id": "a8a17f15",
   "metadata": {},
   "outputs": [],
   "source": [
    "def fibonacci(n):\n",
    "    '''\n",
    "    매개변수로 들어온 n값 미만의 피보나치 수열을 출력하는 함수\n",
    "    ex. n=10 : 0 1 1 2 3 5 8\n",
    "       n=100 : 0 1 1 2 3 5 8 13 21 34 55 89\n",
    "    '''\n",
    "    a, b = 0, 1 # 함수 내에 선언한 변수 : 지역변수(반:전역변수)\n",
    "    while a < n:\n",
    "        print(a, end=' ')\n",
    "        a, b = b, a+b\n",
    "    print() # 개행 "
   ]
  },
  {
   "cell_type": "code",
   "execution_count": 26,
   "id": "8f74c33f",
   "metadata": {},
   "outputs": [
    {
     "name": "stdout",
     "output_type": "stream",
     "text": [
      "0 1 1 2 3 5 8 13 21 34 55 89 144 233 377 610 987 1597 2584 4181 6765 10946 17711 28657 46368 75025 121393 196418 317811 514229 832040 \n"
     ]
    }
   ],
   "source": [
    "fibonacci(1000000)"
   ]
  },
  {
   "cell_type": "code",
   "execution_count": 27,
   "id": "873be843",
   "metadata": {},
   "outputs": [
    {
     "ename": "NameError",
     "evalue": "name 'a' is not defined",
     "output_type": "error",
     "traceback": [
      "\u001b[1;31m---------------------------------------------------------------------------\u001b[0m",
      "\u001b[1;31mNameError\u001b[0m                                 Traceback (most recent call last)",
      "Cell \u001b[1;32mIn[27], line 1\u001b[0m\n\u001b[1;32m----> 1\u001b[0m \u001b[43ma\u001b[49m, b\n",
      "\u001b[1;31mNameError\u001b[0m: name 'a' is not defined"
     ]
    }
   ],
   "source": [
    "a, b # 지역변수는 함수내에서만 사용가능"
   ]
  },
  {
   "cell_type": "markdown",
   "id": "4d8e1e9d",
   "metadata": {},
   "source": [
    "## 1.3 지역변수(local var)와 전역변수(global var)"
   ]
  },
  {
   "cell_type": "code",
   "execution_count": 28,
   "id": "1c4ad6cd",
   "metadata": {},
   "outputs": [
    {
     "name": "stdout",
     "output_type": "stream",
     "text": [
      "함수안 : 100\n",
      "함수밖 : 100\n"
     ]
    }
   ],
   "source": [
    "global_var = 100\n",
    "def func1():\n",
    "    print('함수안 :', global_var)\n",
    "func1()\n",
    "print('함수밖 :', global_var)"
   ]
  },
  {
   "cell_type": "code",
   "execution_count": 29,
   "id": "85e4288c",
   "metadata": {},
   "outputs": [
    {
     "name": "stdout",
     "output_type": "stream",
     "text": [
      "함수안 : 200\n"
     ]
    }
   ],
   "source": [
    "def func2():\n",
    "    local_var = 200 # 지역변수(함수내에서 할당)\n",
    "    print('함수안 :', local_var)\n",
    "func2()"
   ]
  },
  {
   "cell_type": "code",
   "execution_count": null,
   "id": "31a2721f",
   "metadata": {},
   "outputs": [],
   "source": [
    "# print('함수밖에서 지역변수:', local_var) # 에러"
   ]
  },
  {
   "cell_type": "code",
   "execution_count": 30,
   "id": "eee72af0",
   "metadata": {},
   "outputs": [
    {
     "name": "stdout",
     "output_type": "stream",
     "text": [
      "지역변수 g_var: 200\n",
      "전역변수 g_var: 100\n"
     ]
    }
   ],
   "source": [
    "g_var = 100 # 전역변수\n",
    "def func3():\n",
    "    g_var = 200 # 지역변수(함수내에서 할당)\n",
    "    print('지역변수 g_var:', g_var)\n",
    "func3()\n",
    "print('전역변수 g_var:', g_var)"
   ]
  },
  {
   "cell_type": "code",
   "execution_count": 31,
   "id": "287b6565",
   "metadata": {},
   "outputs": [
    {
     "ename": "UnboundLocalError",
     "evalue": "local variable 'g_var' referenced before assignment",
     "output_type": "error",
     "traceback": [
      "\u001b[1;31m---------------------------------------------------------------------------\u001b[0m",
      "\u001b[1;31mUnboundLocalError\u001b[0m                         Traceback (most recent call last)",
      "Cell \u001b[1;32mIn[31], line 7\u001b[0m\n\u001b[0;32m      5\u001b[0m         \u001b[38;5;28mprint\u001b[39m(\u001b[38;5;124m'\u001b[39m\u001b[38;5;124m지역변수 g_var:\u001b[39m\u001b[38;5;124m'\u001b[39m, g_var)\n\u001b[0;32m      6\u001b[0m         g_var \u001b[38;5;241m=\u001b[39m \u001b[38;5;241m200\u001b[39m\n\u001b[1;32m----> 7\u001b[0m \u001b[43mfunc3\u001b[49m\u001b[43m(\u001b[49m\u001b[43m)\u001b[49m\n\u001b[0;32m      8\u001b[0m \u001b[38;5;28mprint\u001b[39m(\u001b[38;5;124m'\u001b[39m\u001b[38;5;124m전역변수 g_var:\u001b[39m\u001b[38;5;124m'\u001b[39m, g_var)\n",
      "Cell \u001b[1;32mIn[31], line 5\u001b[0m, in \u001b[0;36mfunc3\u001b[1;34m()\u001b[0m\n\u001b[0;32m      4\u001b[0m \u001b[38;5;28;01mdef\u001b[39;00m \u001b[38;5;21mfunc3\u001b[39m():\n\u001b[1;32m----> 5\u001b[0m         \u001b[38;5;28mprint\u001b[39m(\u001b[38;5;124m'\u001b[39m\u001b[38;5;124m지역변수 g_var:\u001b[39m\u001b[38;5;124m'\u001b[39m, \u001b[43mg_var\u001b[49m)\n\u001b[0;32m      6\u001b[0m         g_var \u001b[38;5;241m=\u001b[39m \u001b[38;5;241m200\u001b[39m\n",
      "\u001b[1;31mUnboundLocalError\u001b[0m: local variable 'g_var' referenced before assignment"
     ]
    }
   ],
   "source": [
    "# 렉시컬 특성 : 변수가 어디서 선언되었는지에 따라\n",
    "# 변수의 범위가 정해짐(지역vs전역)\n",
    "g_var = 100 # 전역변수\n",
    "def func3():\n",
    "        print('지역변수 g_var:', g_var)\n",
    "        g_var = 200\n",
    "func3()\n",
    "print('전역변수 g_var:', g_var)"
   ]
  },
  {
   "cell_type": "code",
   "execution_count": 32,
   "id": "210ed221",
   "metadata": {},
   "outputs": [
    {
     "name": "stdout",
     "output_type": "stream",
     "text": [
      "전역변수 g_var: 100\n",
      "전역변수 g_var: 200\n"
     ]
    }
   ],
   "source": [
    "# 렉시컬 특성\n",
    "g_var = 100 # 전역변수\n",
    "def func3():\n",
    "        global g_var # 함수내에서의 g_var는 전역변수를 쓰겠다\n",
    "        print('전역변수 g_var:', g_var)\n",
    "        g_var = 200 # 전역변수 g_var에 200 할당\n",
    "func3()\n",
    "print('전역변수 g_var:', g_var)"
   ]
  },
  {
   "cell_type": "markdown",
   "id": "20427173",
   "metadata": {},
   "source": [
    "## 1.4 값에 의한 호출\n",
    "- 함수에 인수로 전달되는 변수가 스칼라변수(문자, 숫자, 논리형)일 때"
   ]
  },
  {
   "cell_type": "code",
   "execution_count": 33,
   "id": "0cc3a47a",
   "metadata": {},
   "outputs": [
    {
     "data": {
      "text/plain": [
       "2201852536624"
      ]
     },
     "execution_count": 33,
     "metadata": {},
     "output_type": "execute_result"
    }
   ],
   "source": [
    "foo = 'a' # 전역변수\n",
    "id(foo)"
   ]
  },
  {
   "cell_type": "code",
   "execution_count": 34,
   "id": "1c80b404",
   "metadata": {},
   "outputs": [
    {
     "name": "stdout",
     "output_type": "stream",
     "text": [
      "before: a 의 주소는 2201852536624\n",
      "After: aaa 의 주소는 2201930968752\n"
     ]
    }
   ],
   "source": [
    "def func1(f): # 매개변수는 지역변수\n",
    "    print('before:', f, '의 주소는', id(f))\n",
    "    f = f*3\n",
    "    print('After:', f, '의 주소는', id(f))\n",
    "func1(foo)"
   ]
  },
  {
   "cell_type": "code",
   "execution_count": 35,
   "id": "615dbb04",
   "metadata": {},
   "outputs": [
    {
     "name": "stdout",
     "output_type": "stream",
     "text": [
      "foo= a 의 주소는 2201852536624\n"
     ]
    }
   ],
   "source": [
    "print('foo=', foo, '의 주소는', id(foo))"
   ]
  },
  {
   "cell_type": "markdown",
   "id": "96602240",
   "metadata": {},
   "source": [
    "## 1.4 참조에 의한 호출\n",
    "- 함수에 인수로 전달되는 변수가 리스트, 튜플, 셋, 딕셔너리, 기타 객체일 경우"
   ]
  },
  {
   "cell_type": "code",
   "execution_count": 36,
   "id": "6e25c034",
   "metadata": {},
   "outputs": [
    {
     "data": {
      "text/plain": [
       "2201964143872"
      ]
     },
     "execution_count": 36,
     "metadata": {},
     "output_type": "execute_result"
    }
   ],
   "source": [
    "L =[1, 2, 3, 4, 5]\n",
    "id(L)"
   ]
  },
  {
   "cell_type": "code",
   "execution_count": 37,
   "id": "b2e839c0",
   "metadata": {},
   "outputs": [
    {
     "name": "stdout",
     "output_type": "stream",
     "text": [
      "Before: [1, 2, 3, 4, 5] 의 주소는 2201964143872\n",
      "After: [1, 2, 3, 4, 5, 6] 의 주소는 2201964143872\n"
     ]
    }
   ],
   "source": [
    "def func2(f): # 매개변수는 지역변수\n",
    "    print('Before:', f, '의 주소는', id(f))\n",
    "    f.append(6)\n",
    "    print('After:', f, '의 주소는', id(f))\n",
    "func2(L)"
   ]
  },
  {
   "cell_type": "code",
   "execution_count": 38,
   "id": "d6bdb5b3",
   "metadata": {},
   "outputs": [
    {
     "name": "stdout",
     "output_type": "stream",
     "text": [
      "L= 의 주소는 2201964143872\n"
     ]
    }
   ],
   "source": [
    "print('L=', '의 주소는', id(L))"
   ]
  },
  {
   "cell_type": "markdown",
   "id": "ac3069a4",
   "metadata": {},
   "source": [
    "# 2절 함수의 실행결과를 반환하는 return"
   ]
  },
  {
   "cell_type": "code",
   "execution_count": 39,
   "id": "6b120807",
   "metadata": {},
   "outputs": [],
   "source": [
    "def fibonacci_print(n):\n",
    "    \"n미만의 피보나치 수열을 리스트로 return\"\n",
    "    result = [] # 피보나치수열을 append할 리스트\n",
    "    a, b = 0, 1\n",
    "    while a<n:\n",
    "        result.append(a) # 리스트에 append\n",
    "        a, b = b, a+b\n",
    "    return result      "
   ]
  },
  {
   "cell_type": "code",
   "execution_count": 40,
   "id": "b2d4e6fc",
   "metadata": {},
   "outputs": [
    {
     "name": "stdout",
     "output_type": "stream",
     "text": [
      "0 1 1 2 3 5 8 \n",
      "None\n",
      "<class 'NoneType'>\n"
     ]
    }
   ],
   "source": [
    "x = fibonacci(10)\n",
    "print(x)\n",
    "print(type(x))"
   ]
  },
  {
   "cell_type": "code",
   "execution_count": 41,
   "id": "f1fe4d03",
   "metadata": {},
   "outputs": [
    {
     "name": "stdout",
     "output_type": "stream",
     "text": [
      "x= [0, 1, 1, 2, 3, 5, 8]\n",
      "<class 'list'>\n"
     ]
    }
   ],
   "source": [
    "x = fibonacci_print(10)\n",
    "print('x=',x)\n",
    "print(type(x))"
   ]
  },
  {
   "cell_type": "markdown",
   "id": "bb2073a2",
   "metadata": {},
   "source": [
    "### 여러개 값 return\n",
    "- 여러개값을 갖는 튜플로 return"
   ]
  },
  {
   "cell_type": "code",
   "execution_count": 42,
   "id": "7a0742fb",
   "metadata": {},
   "outputs": [],
   "source": [
    "def swap(a, b):\n",
    "    '매개변수의 순서를 바꿔서 return'\n",
    "    return b, a   # return (b, a)"
   ]
  },
  {
   "cell_type": "code",
   "execution_count": 44,
   "id": "20a3402e",
   "metadata": {},
   "outputs": [
    {
     "name": "stdout",
     "output_type": "stream",
     "text": [
      "함수 실행 전 x, y = 5 10\n",
      "함수 실행 후 x, y = 10 5\n"
     ]
    }
   ],
   "source": [
    "x=5; y=10\n",
    "print('함수 실행 전 x, y =', x, y)\n",
    "x, y = swap(x, y)\n",
    "print('함수 실행 후 x, y =', x, y)"
   ]
  },
  {
   "cell_type": "markdown",
   "id": "92a1e4f2",
   "metadata": {},
   "source": [
    "# 3절 함수의 매개변수 ★\n",
    "##  3.1기본값을 갖는 매개변수"
   ]
  },
  {
   "cell_type": "code",
   "execution_count": 45,
   "id": "979bab67",
   "metadata": {},
   "outputs": [],
   "source": [
    "def make_url(ip, port=80):\n",
    "    return \"http://{}:{}\".format(ip, port)"
   ]
  },
  {
   "cell_type": "code",
   "execution_count": 47,
   "id": "a148aa66",
   "metadata": {},
   "outputs": [
    {
     "name": "stdout",
     "output_type": "stream",
     "text": [
      "http://localhost:8090\n",
      "http://www.naver.com:80\n",
      "http://localhost:9090\n"
     ]
    }
   ],
   "source": [
    "print(make_url(\"localhost\", 8090))\n",
    "print(make_url(\"www.naver.com\"))\n",
    "print(make_url(port=9090, ip=\"localhost\"))"
   ]
  },
  {
   "cell_type": "code",
   "execution_count": null,
   "id": "730c3f97",
   "metadata": {},
   "outputs": [],
   "source": [
    "# def make_url(port=80, ip): # 순서인수 > 기본값을 갖는 매개변수\n",
    "#     return \"http://{}:{}\".format(ip, port) 에러남"
   ]
  },
  {
   "cell_type": "markdown",
   "id": "9978a247",
   "metadata": {},
   "source": [
    "## 3.2 기본변수를 기본값으로 갖는 매개변수\n",
    "- 기본변수가 스칼라변수(문자, 숫자, 논리형)일 때\n",
    "- 기본변수가 리스트, 셋, 딕셔너리, 기타 객체일 때"
   ]
  },
  {
   "cell_type": "code",
   "execution_count": 50,
   "id": "bfa74db1",
   "metadata": {},
   "outputs": [],
   "source": [
    "i = 80\n",
    "# 기본변수가 스칼라 변수일 때 : 함수가 정의되는 시점으로 기본값 셋팅\n",
    "def make_url(ip, port=i):\n",
    "    return \"http://{}:{}\".format(ip, port)"
   ]
  },
  {
   "cell_type": "code",
   "execution_count": 51,
   "id": "b0ba98ea",
   "metadata": {},
   "outputs": [
    {
     "data": {
      "text/plain": [
       "'http://localhost:80'"
      ]
     },
     "execution_count": 51,
     "metadata": {},
     "output_type": "execute_result"
    }
   ],
   "source": [
    "i = 90\n",
    "make_url(\"localhost\")"
   ]
  },
  {
   "cell_type": "code",
   "execution_count": 52,
   "id": "32ff8c97",
   "metadata": {},
   "outputs": [
    {
     "name": "stdout",
     "output_type": "stream",
     "text": [
      "[10]\n"
     ]
    }
   ],
   "source": [
    "list_ = []\n",
    "# 기본변수가 리스트, 셋, 딕셔너리, 객체일 때 : 함수가 실행되는 시점으로 기본값 셋팅\n",
    "def func3(a, L=list_):\n",
    "    L.append(a)\n",
    "    return L\n",
    "print(func3(10))"
   ]
  },
  {
   "cell_type": "code",
   "execution_count": 53,
   "id": "0157f7fb",
   "metadata": {},
   "outputs": [
    {
     "name": "stdout",
     "output_type": "stream",
     "text": [
      "[10, 20]\n"
     ]
    }
   ],
   "source": [
    "print(func3(20))"
   ]
  },
  {
   "cell_type": "code",
   "execution_count": 54,
   "id": "f7607a7a",
   "metadata": {},
   "outputs": [
    {
     "name": "stdout",
     "output_type": "stream",
     "text": [
      "list_ [10, 20]\n"
     ]
    }
   ],
   "source": [
    "print(\"list_\", list_)"
   ]
  },
  {
   "cell_type": "code",
   "execution_count": 55,
   "id": "8953a600",
   "metadata": {},
   "outputs": [
    {
     "name": "stdout",
     "output_type": "stream",
     "text": [
      "[10, 20, 50]\n"
     ]
    }
   ],
   "source": [
    "print(func3(50))"
   ]
  },
  {
   "cell_type": "code",
   "execution_count": 58,
   "id": "b220bd02",
   "metadata": {},
   "outputs": [
    {
     "name": "stdout",
     "output_type": "stream",
     "text": [
      "[10]\n"
     ]
    }
   ],
   "source": [
    "# 실행할 때마나다 L을 공유하는게 싫으면\n",
    "def func3(a, L=None):\n",
    "    if L is None:\n",
    "        L= []\n",
    "    L.append(a)\n",
    "    return L\n",
    "print(func3(10))"
   ]
  },
  {
   "cell_type": "code",
   "execution_count": 59,
   "id": "017f61d2",
   "metadata": {},
   "outputs": [
    {
     "name": "stdout",
     "output_type": "stream",
     "text": [
      "[10]\n"
     ]
    }
   ],
   "source": [
    "print(func3(10))"
   ]
  },
  {
   "cell_type": "markdown",
   "id": "bf9e46a3",
   "metadata": {},
   "source": [
    "## 3.3 순서인수, 키워드인수\n",
    "- 순서인수 : 함수에 정위된 순서대로 전달방식\n",
    "- 키워드인수 : 인수의 이름을 명시하는 방식\n",
    "- 함수 정의시 순서인수와 키워드인수가 같이 올 때는 순서인수 > 키워드인수 순으로"
   ]
  },
  {
   "cell_type": "code",
   "execution_count": 60,
   "id": "948a7f01",
   "metadata": {},
   "outputs": [],
   "source": [
    "def func3(a, L=None):\n",
    "    if L is None:\n",
    "        L= []\n",
    "    L.append(a)\n",
    "    return L"
   ]
  },
  {
   "cell_type": "code",
   "execution_count": 61,
   "id": "a88ec4fd",
   "metadata": {},
   "outputs": [
    {
     "name": "stdout",
     "output_type": "stream",
     "text": [
      "[10]\n",
      "[10, 20]\n"
     ]
    }
   ],
   "source": [
    "lst = []\n",
    "print(func3(10, lst))     # 순서인수 :  함수 정의된 순서대로 전달하는 방식\n",
    "print(func3(L=lst, a=20)) # 키워드인수 : 인수의 이름을 명시하여 전달하는 방식"
   ]
  },
  {
   "cell_type": "markdown",
   "id": "4579ba83",
   "metadata": {},
   "source": [
    "## 3.4 튜플매개변수를 이용한 가변인수 설정\n",
    "- 가변인수 : 매개변수의 갯수가 가변"
   ]
  },
  {
   "cell_type": "code",
   "execution_count": 64,
   "id": "9c4d2036",
   "metadata": {},
   "outputs": [],
   "source": [
    "# 파이썬은 함수의 중복정의(오버로딩)을 지원하지 않음\n",
    "def add(a, b):\n",
    "    return a+b\n",
    "def add(a, b, c):\n",
    "    return a+b+c"
   ]
  },
  {
   "cell_type": "code",
   "execution_count": 65,
   "id": "4c761f15",
   "metadata": {},
   "outputs": [
    {
     "ename": "TypeError",
     "evalue": "add() missing 1 required positional argument: 'c'",
     "output_type": "error",
     "traceback": [
      "\u001b[1;31m---------------------------------------------------------------------------\u001b[0m",
      "\u001b[1;31mTypeError\u001b[0m                                 Traceback (most recent call last)",
      "Cell \u001b[1;32mIn[65], line 1\u001b[0m\n\u001b[1;32m----> 1\u001b[0m \u001b[43madd\u001b[49m\u001b[43m(\u001b[49m\u001b[38;5;241;43m3\u001b[39;49m\u001b[43m,\u001b[49m\u001b[43m \u001b[49m\u001b[38;5;241;43m5\u001b[39;49m\u001b[43m)\u001b[49m\n",
      "\u001b[1;31mTypeError\u001b[0m: add() missing 1 required positional argument: 'c'"
     ]
    }
   ],
   "source": [
    "add(3, 5)"
   ]
  },
  {
   "cell_type": "code",
   "execution_count": 78,
   "id": "9f2a8193",
   "metadata": {},
   "outputs": [],
   "source": [
    "# args앞에 * : agrs가 튜플로 전달받는다\n",
    "def add(*args):\n",
    "   # print('args=', args)\n",
    "    '전달받은 매개변수들의 합을 return. 매개변수가 없는 경우 0을 return'\n",
    "    sum = 0 # 누적변수\n",
    "    for num in args:\n",
    "        sum += num # sum = sum+num\n",
    "    return sum"
   ]
  },
  {
   "cell_type": "code",
   "execution_count": 81,
   "id": "f7f07341",
   "metadata": {},
   "outputs": [
    {
     "name": "stdout",
     "output_type": "stream",
     "text": [
      "0\n",
      "1\n",
      "55\n"
     ]
    }
   ],
   "source": [
    "print(add())\n",
    "print(add(1))\n",
    "print(add(1, 2, 3, 4, 5, 6, 7, 8, 9, 10))"
   ]
  },
  {
   "cell_type": "code",
   "execution_count": 94,
   "id": "2df9a842",
   "metadata": {},
   "outputs": [
    {
     "data": {
      "text/plain": [
       "'python-web-JavaScript-DBMS'"
      ]
     },
     "execution_count": 94,
     "metadata": {},
     "output_type": "execute_result"
    }
   ],
   "source": [
    "subject = ('python', 'web', 'JavaScript', 'DBMS')\n",
    "'-'.join(subject)"
   ]
  },
  {
   "cell_type": "code",
   "execution_count": 116,
   "id": "dacd32ac",
   "metadata": {},
   "outputs": [],
   "source": [
    "# 튜플 매개변수와 일반 매개변수가 같이 있을 때\n",
    "def concat(*subject, sep):\n",
    "    return sep.join(subject)"
   ]
  },
  {
   "cell_type": "code",
   "execution_count": 115,
   "id": "aa6628ee",
   "metadata": {},
   "outputs": [
    {
     "data": {
      "text/plain": [
       "'python ~ web ~ JavaScript ~ DBMS ~ -'"
      ]
     },
     "execution_count": 115,
     "metadata": {},
     "output_type": "execute_result"
    }
   ],
   "source": [
    "concat('python', 'web', 'JavaScript', 'DBMS', '-')"
   ]
  },
  {
   "cell_type": "code",
   "execution_count": 114,
   "id": "cd917988",
   "metadata": {},
   "outputs": [
    {
     "name": "stdout",
     "output_type": "stream",
     "text": [
      "python-web-JavaScript-DBMS\n"
     ]
    }
   ],
   "source": [
    "# 해결책1 : 매개변수 이름을 지정해서 호출\n",
    "print(concat('python', 'web', 'JavaScript', 'DBMS', sep='-'))"
   ]
  },
  {
   "cell_type": "code",
   "execution_count": 113,
   "id": "f8874729",
   "metadata": {},
   "outputs": [
    {
     "name": "stdout",
     "output_type": "stream",
     "text": [
      "python ~ web ~ JavaScript ~ DBMS\n"
     ]
    }
   ],
   "source": [
    "# 해결책2 : 기본값을 갖는 키워드인수 사용\n",
    "def concat(*subject, sep=' ~ '): # 튜플매개변수 > 키워드인수\n",
    "    return sep.join(subject)\n",
    "print(concat('python', 'web', 'JavaScript', 'DBMS'))"
   ]
  },
  {
   "cell_type": "code",
   "execution_count": 117,
   "id": "f01bb5de",
   "metadata": {},
   "outputs": [],
   "source": [
    "# 해결책3 : sep을 순서인수로 앞으로(추천)\n",
    "def concat(sep, *subject):\n",
    "    return sep.join(subject)"
   ]
  },
  {
   "cell_type": "code",
   "execution_count": 118,
   "id": "5dd72c0c",
   "metadata": {},
   "outputs": [
    {
     "data": {
      "text/plain": [
       "'python~web~DB~MLDL'"
      ]
     },
     "execution_count": 118,
     "metadata": {},
     "output_type": "execute_result"
    }
   ],
   "source": [
    "concat('~', 'python', 'web', 'DB', 'MLDL')"
   ]
  },
  {
   "cell_type": "markdown",
   "id": "8428edfc",
   "metadata": {},
   "source": [
    "## 3.5 딕셔너리 매개변수\n",
    "- 딕셔너리 인수 : 여러개의 키워드 인수를 딕셔너리 형태로 받아서 가변인수로 처리"
   ]
  },
  {
   "cell_type": "code",
   "execution_count": 144,
   "id": "fb53b5f7",
   "metadata": {},
   "outputs": [],
   "source": [
    "def func5(**args): # args : 딕셔너리로 전달받음\n",
    "    print('이름:', args.get('name', '몰라'))\n",
    "    print('나이:', args.get('age', 30))\n",
    "    print('전화:', args.get('tel', 'djqtdma'))\n",
    "    print('주소:', args.get('address', '서울관악'))"
   ]
  },
  {
   "cell_type": "code",
   "execution_count": 150,
   "id": "476d3257",
   "metadata": {},
   "outputs": [],
   "source": [
    "def func5(**args):\n",
    "    print(args)\n",
    "    print(type(args))\n",
    "    if 'address' not in args: # args에 address 키가 없으면 if 문 True\n",
    "        # args['address'] = '서울시 관악구'\n",
    "        # args.update({'address':'서울시 관악구'})\n",
    "        args.update(address='서울시 관악구')\n",
    "    for key, value in args.items():\n",
    "        print('{}:{}'.format(key, value))"
   ]
  },
  {
   "cell_type": "code",
   "execution_count": 151,
   "id": "2790c0f3",
   "metadata": {},
   "outputs": [
    {
     "name": "stdout",
     "output_type": "stream",
     "text": [
      "{'name': '홍길동', 'age': 30, 'tel': '010-9999-9999'}\n",
      "<class 'dict'>\n",
      "name:홍길동\n",
      "age:30\n",
      "tel:010-9999-9999\n",
      "address:서울시 관악구\n"
     ]
    }
   ],
   "source": [
    "func5(name='홍길동',\n",
    "      age=30,\n",
    "      tel='010-9999-9999')"
   ]
  },
  {
   "cell_type": "markdown",
   "id": "337d7f64",
   "metadata": {},
   "source": [
    "## 3.6 함수 정의시 매개변수 순서\n",
    "- 순서인수 > 튜플인수(*) > 키워드인수(기본값) > 딕셔너리인수(**)"
   ]
  },
  {
   "cell_type": "code",
   "execution_count": 153,
   "id": "e79c8d45",
   "metadata": {},
   "outputs": [],
   "source": [
    "# 순서인수 > 튜플인수 > 딕셔너리인수\n",
    "def func6(a, b, *c, **d):\n",
    "    print('순서인수 a =', a)\n",
    "    print('순서인수 b =', b)\n",
    "    print('튜플인수 c =', c)\n",
    "    print('딕셔너리인수 d =', d)"
   ]
  },
  {
   "cell_type": "code",
   "execution_count": 154,
   "id": "d60fe3d7",
   "metadata": {},
   "outputs": [
    {
     "name": "stdout",
     "output_type": "stream",
     "text": [
      "순서인수 a = 10\n",
      "순서인수 b = 20\n",
      "튜플인수 c = (1, 2, 3, 4, 5, 6, 7, 8, 9)\n",
      "딕셔너리인수 d = {'name': '홍', 'age': 30, 'address': '신림'}\n"
     ]
    }
   ],
   "source": [
    "func6(10, 20, 1, 2, 3, 4, 5, 6, 7, 8, 9, name='홍', age=30, address='신림')"
   ]
  },
  {
   "cell_type": "code",
   "execution_count": 155,
   "id": "990668af",
   "metadata": {},
   "outputs": [],
   "source": [
    "# 순서인수 > 튜플인수(*) > 키워드인수(기본값) > 딕셔너리인수(**)\n",
    "def func7(a, b, c, *d, e=10, **f):\n",
    "    print('순서인수 a=', a)\n",
    "    print('순서인수 b=', b)\n",
    "    print('순서인수 c=', c)\n",
    "    print('튜플인수 d=', d)\n",
    "    print('키워드인수(기본값 10) e=', e)\n",
    "    print('딕셔너리인수 f=', f)"
   ]
  },
  {
   "cell_type": "code",
   "execution_count": 158,
   "id": "154992d9",
   "metadata": {},
   "outputs": [
    {
     "name": "stdout",
     "output_type": "stream",
     "text": [
      "순서인수 a= 10\n",
      "순서인수 b= 20\n",
      "순서인수 c= 30\n",
      "튜플인수 d= ()\n",
      "키워드인수(기본값 10) e= 100\n",
      "딕셔너리인수 f= {}\n"
     ]
    }
   ],
   "source": [
    "func7(10, 20, 30, e=100)"
   ]
  },
  {
   "cell_type": "code",
   "execution_count": 157,
   "id": "6835c3b7",
   "metadata": {},
   "outputs": [
    {
     "name": "stdout",
     "output_type": "stream",
     "text": [
      "순서인수 a= 10\n",
      "순서인수 b= 20\n",
      "순서인수 c= 30\n",
      "튜플인수 d= ()\n",
      "키워드인수(기본값 10) e= 10\n",
      "딕셔너리인수 f= {}\n"
     ]
    }
   ],
   "source": [
    "func7(10, 20, 30)"
   ]
  },
  {
   "cell_type": "code",
   "execution_count": 156,
   "id": "fc81cf82",
   "metadata": {},
   "outputs": [
    {
     "name": "stdout",
     "output_type": "stream",
     "text": [
      "순서인수 a= 10\n",
      "순서인수 b= 20\n",
      "순서인수 c= 30\n",
      "튜플인수 d= (1, 2, 3, 4, 5)\n",
      "키워드인수(기본값 10) e= 100\n",
      "딕셔너리인수 f= {'shape': 'rect', 'width': 20, 'height': 30}\n"
     ]
    }
   ],
   "source": [
    "func7(10, 20, 30, 1,2,3,4,5, e=100, shape='rect', width=20, height=30)"
   ]
  },
  {
   "cell_type": "markdown",
   "id": "6507ba9a",
   "metadata": {},
   "source": [
    "## 3.7 인수의 언패킹\n",
    "### 튜플인수 언패킹\n",
    "- 언패킹 : 함수 호출시 매개변수 앞에 * 붙임\n",
    "- 패킹 : 함수 정의시 매개변수 앞에 * 붙임(튜플매개변수)"
   ]
  },
  {
   "cell_type": "code",
   "execution_count": 162,
   "id": "2576e0a6",
   "metadata": {},
   "outputs": [],
   "source": [
    "def add(*args):\n",
    "#    print(args)\n",
    "    sum = 0\n",
    "    for num in args:\n",
    "        sum += num\n",
    "    return sum"
   ]
  },
  {
   "cell_type": "code",
   "execution_count": 160,
   "id": "6c49358c",
   "metadata": {},
   "outputs": [
    {
     "data": {
      "text/plain": [
       "6"
      ]
     },
     "execution_count": 160,
     "metadata": {},
     "output_type": "execute_result"
    }
   ],
   "source": [
    "add(1, 2, 3)"
   ]
  },
  {
   "cell_type": "code",
   "execution_count": 164,
   "id": "3132d543",
   "metadata": {},
   "outputs": [
    {
     "data": {
      "text/plain": [
       "6"
      ]
     },
     "execution_count": 164,
     "metadata": {},
     "output_type": "execute_result"
    }
   ],
   "source": [
    "numbers = (1, 2, 3)\n",
    "add(*numbers)"
   ]
  },
  {
   "cell_type": "markdown",
   "id": "ff8b7395",
   "metadata": {},
   "source": [
    "### 딕셔너리 인수 언패킹\n",
    "- 언패킹 : 함수 호출시 매개변수 앞에 ** 붙임\n",
    "- 패킹 : 함수 정의시 매개변수 앞에 ** 붙임(딕셔너리매개변수)"
   ]
  },
  {
   "cell_type": "code",
   "execution_count": 165,
   "id": "3f74725a",
   "metadata": {},
   "outputs": [],
   "source": [
    "def func8(**data):\n",
    "    print(data)\n",
    "    for item in data.items():\n",
    "        print(item)"
   ]
  },
  {
   "cell_type": "code",
   "execution_count": 166,
   "id": "46fdf3c1",
   "metadata": {},
   "outputs": [
    {
     "name": "stdout",
     "output_type": "stream",
     "text": [
      "{'shape': 'rect', 'width': 40, 'height': 30}\n",
      "('shape', 'rect')\n",
      "('width', 40)\n",
      "('height', 30)\n"
     ]
    }
   ],
   "source": [
    "func8(shape='rect', width=40, height=30)"
   ]
  },
  {
   "cell_type": "code",
   "execution_count": 169,
   "id": "e8ddb70f",
   "metadata": {},
   "outputs": [
    {
     "name": "stdout",
     "output_type": "stream",
     "text": [
      "{'shape': 'rect', 'width': 40, 'height': 30}\n",
      "('shape', 'rect')\n",
      "('width', 40)\n",
      "('height', 30)\n"
     ]
    }
   ],
   "source": [
    "info = {'shape':'rect', 'width':40, 'height':30}\n",
    "func8(**info)"
   ]
  },
  {
   "cell_type": "markdown",
   "id": "0ccceb5c",
   "metadata": {},
   "source": [
    "# 4절 람다식\n",
    "- return 한줄 짜리 작은 익명함수\n",
    "## 4.1 람다식 연습"
   ]
  },
  {
   "cell_type": "code",
   "execution_count": null,
   "id": "5e589062",
   "metadata": {},
   "outputs": [],
   "source": [
    "def add(a, b):\n",
    "    return a+b\n",
    "print(add(3, 5))\n",
    "print(type(add))"
   ]
  },
  {
   "cell_type": "code",
   "execution_count": null,
   "id": "252d6f2e",
   "metadata": {},
   "outputs": [],
   "source": [
    "add2 = lambda a, b : a + b\n",
    "print(add2(3,5))\n",
    "print(type(add2))"
   ]
  },
  {
   "cell_type": "code",
   "execution_count": 15,
   "id": "a5ba929c",
   "metadata": {},
   "outputs": [
    {
     "data": {
      "text/plain": [
       "('홀수', '짝수')"
      ]
     },
     "execution_count": 15,
     "metadata": {},
     "output_type": "execute_result"
    }
   ],
   "source": [
    "# ex1. 매개변수로 들어온 값이 짝수인지 홀수인지 return 함수를 람다식으로 만들어보세요\n",
    "def even_odd_chk(num):\n",
    "#     if num%2:\n",
    "#         result = \"홀수\"\n",
    "#     else:\n",
    "#         result = \"짝수\"\n",
    "    return \"홀수\" if num%2 else \"짝수\"\n",
    "even_odd_chk1 = lambda num : \"홀수\" if num%2 else \"짝수\"\n",
    "even_odd_chk(5), even_odd_chk(-4)"
   ]
  },
  {
   "cell_type": "code",
   "execution_count": 1,
   "id": "c1c4be36",
   "metadata": {},
   "outputs": [
    {
     "data": {
      "text/plain": [
       "(4, 4)"
      ]
     },
     "execution_count": 1,
     "metadata": {},
     "output_type": "execute_result"
    }
   ],
   "source": [
    "# ex2.  두 매개변수의 차이를 return 하는 함수를 람다식으로 만들어 보세요\n",
    "def diff(a, b):\n",
    "    if a>b:\n",
    "        result = a-b\n",
    "    else:\n",
    "        result = a-b\n",
    "    return result\n",
    "diff = lambda a, b : a-b if a>b else b-a\n",
    "diff(5, 1), diff(1,5)"
   ]
  },
  {
   "cell_type": "code",
   "execution_count": 23,
   "id": "119b947b",
   "metadata": {},
   "outputs": [
    {
     "ename": "SyntaxError",
     "evalue": "invalid syntax (3232007740.py, line 6)",
     "output_type": "error",
     "traceback": [
      "\u001b[1;36m  Cell \u001b[1;32mIn[23], line 6\u001b[1;36m\u001b[0m\n\u001b[1;33m    elif : 60<=score<80:\u001b[0m\n\u001b[1;37m         ^\u001b[0m\n\u001b[1;31mSyntaxError\u001b[0m\u001b[1;31m:\u001b[0m invalid syntax\n"
     ]
    }
   ],
   "source": [
    "# ex4. 점수를 입력받아 80점 이상은 'A팀', 60점 이상은 'B팀', 60점 미만은 '재시험'\n",
    "                    # 100점초과, 0점 미만은 '유효하지 않음'을 return\n",
    "def levelChk(score):\n",
    "    if 80<=score<=100:\n",
    "        return \"A팀\"\n",
    "    elif : 60<=score<80:\n",
    "        return \"B팀\"\n",
    "    elif : 0<=score<60:\n",
    "        return \"재시험\"\n",
    "    else:\n",
    "        return '유효하지 않음'\n",
    "ex4 = lambda score : 'A팀' if 80<=score<=100 else\\\n",
    "                     'B팀' if 60<=score<80 else\\\n",
    "                     '재시험' if 0<=score<60 else\\\n",
    "                     '유효하지 않음'\n",
    "levelChk(1)"
   ]
  },
  {
   "cell_type": "code",
   "execution_count": 11,
   "id": "b0a9a1fc",
   "metadata": {},
   "outputs": [
    {
     "data": {
      "text/plain": [
       "('D학점', '유효하지 않은 점수')"
      ]
     },
     "execution_count": 11,
     "metadata": {},
     "output_type": "execute_result"
    }
   ],
   "source": [
    "# 점수를 입력받아 학점을 return\n",
    "score_grade = lambda score : 'A학점' if 90<=score<=100 else\\\n",
    "                             'B학점' if 80<=score<90 else\\\n",
    "                             'C학점' if 70<=score<80 else\\\n",
    "                             'D학점' if 60<=score<70 else\\\n",
    "                             'F학점' if 0<=score<60 else\\\n",
    "                             '유효하지 않은 점수'\n",
    "score_grade(60), score_grade(120)"
   ]
  },
  {
   "cell_type": "code",
   "execution_count": 10,
   "id": "d03f25a7",
   "metadata": {},
   "outputs": [
    {
     "data": {
      "text/plain": [
       "(-1, 2)"
      ]
     },
     "execution_count": 10,
     "metadata": {},
     "output_type": "execute_result"
    }
   ],
   "source": [
    "# ex5 safe_index함수를 람다식으로\n",
    "def safe_index(lst, item, start=0):\n",
    "    return lst.index(item, start) if item in lst[start:] else -1\n",
    "#     if item in lst[start:]:\n",
    "#         return lst.index(item, start) # start번째부터 item이 있는 index를 반환\n",
    "#     return -1\n",
    "ex5 = lambda lst, item, start=0 : lst.index(item, start) if item in lst[start:] else -1\n",
    "lst = [1, 2, 3]\n",
    "safe_index(lst, 4), ex5(lst, 3, 1)"
   ]
  },
  {
   "cell_type": "code",
   "execution_count": 24,
   "id": "bd411e06",
   "metadata": {},
   "outputs": [
    {
     "data": {
      "text/plain": [
       "[25, 15, 100, 4.0]"
      ]
     },
     "execution_count": 24,
     "metadata": {},
     "output_type": "execute_result"
    }
   ],
   "source": [
    "# 람다식을 list에 들어갈 수 있음\n",
    "add = lambda a, b : a + b\n",
    "sub = lambda a, b : a - b\n",
    "mul = lambda a, b : a * b\n",
    "div = lambda a, b : a / b if b else '두번째 인자가 0이면 못 나눠요'\n",
    "operations = [add, sub, mul, div] # 사칙연산 함수들\n",
    "\n",
    "def act_operations(a, b, operations=operations): # a,b의 연산 결과를 return\n",
    "    result = []\n",
    "    for op in operations:\n",
    "        result.append(op(a, b))\n",
    "    return result\n",
    "\n",
    "act_operations(20, 5)"
   ]
  },
  {
   "cell_type": "code",
   "execution_count": 30,
   "id": "51ff20f4",
   "metadata": {},
   "outputs": [
    {
     "data": {
      "text/plain": [
       "[64, 82]"
      ]
     },
     "execution_count": 30,
     "metadata": {},
     "output_type": "execute_result"
    }
   ],
   "source": [
    "act_operations(8, 2, [lambda x,y:x**y, lambda x,y : 10*x+y])"
   ]
  },
  {
   "cell_type": "code",
   "execution_count": 29,
   "id": "fe3af1f9",
   "metadata": {},
   "outputs": [
    {
     "data": {
      "text/plain": [
       "53"
      ]
     },
     "execution_count": 29,
     "metadata": {},
     "output_type": "execute_result"
    }
   ],
   "source": [
    "(lambda x,y : 10*x+y)(5,3)"
   ]
  },
  {
   "cell_type": "code",
   "execution_count": 32,
   "id": "096dc2bc",
   "metadata": {},
   "outputs": [
    {
     "data": {
      "text/plain": [
       "6"
      ]
     },
     "execution_count": 32,
     "metadata": {},
     "output_type": "execute_result"
    }
   ],
   "source": [
    "operations.append(lambda x, y : x**y)\n",
    "len(operations)"
   ]
  },
  {
   "cell_type": "code",
   "execution_count": 33,
   "id": "9cf26def",
   "metadata": {},
   "outputs": [
    {
     "data": {
      "text/plain": [
       "[10, 6, 16, 4.0, 64, 64]"
      ]
     },
     "execution_count": 33,
     "metadata": {},
     "output_type": "execute_result"
    }
   ],
   "source": [
    "act_operations(8,2) # 기본값을 갖는 변수(기본변수)가 리스트면 기본값은 호출할 시점"
   ]
  },
  {
   "cell_type": "markdown",
   "id": "c581362a",
   "metadata": {},
   "source": [
    "## 함수의 매개변수(인수)에 람다식 사용\n",
    "- 람다식을 사용하는 곳 : 함수의 매개변수 > return 문\n",
    "### (1) map"
   ]
  },
  {
   "cell_type": "code",
   "execution_count": 43,
   "id": "89503791",
   "metadata": {},
   "outputs": [],
   "source": [
    "def map_template(func, L=[]):\n",
    "    result = []\n",
    "    for item in L:\n",
    "        result.append(func(item))\n",
    "    return result"
   ]
  },
  {
   "cell_type": "code",
   "execution_count": 45,
   "id": "ff5a0628",
   "metadata": {},
   "outputs": [
    {
     "data": {
      "text/plain": [
       "[1, 2, 3]"
      ]
     },
     "execution_count": 45,
     "metadata": {},
     "output_type": "execute_result"
    }
   ],
   "source": [
    "map_template(lambda a:a, [1,2,3])"
   ]
  },
  {
   "cell_type": "code",
   "execution_count": 44,
   "id": "32ae9efd",
   "metadata": {},
   "outputs": [
    {
     "data": {
      "text/plain": [
       "[2, 4, 6, 8, 10, 12, 14, 16, 18]"
      ]
     },
     "execution_count": 44,
     "metadata": {},
     "output_type": "execute_result"
    }
   ],
   "source": [
    "list_data = [1,2,3,4,5,6,7,8,9]\n",
    "# def x_2(x):\n",
    "#     return x*2\n",
    "x_2 = lambda x : x*2\n",
    "map_template(x_2, list_data)"
   ]
  },
  {
   "cell_type": "code",
   "execution_count": 46,
   "id": "346e4846",
   "metadata": {},
   "outputs": [
    {
     "data": {
      "text/plain": [
       "[2, 4, 6, 8, 10, 12, 14, 16, 18]"
      ]
     },
     "execution_count": 46,
     "metadata": {},
     "output_type": "execute_result"
    }
   ],
   "source": [
    "map_template(lambda x:x*2, list_data)"
   ]
  },
  {
   "cell_type": "code",
   "execution_count": 47,
   "id": "975e3ad3",
   "metadata": {},
   "outputs": [
    {
     "data": {
      "text/plain": [
       "[2, 4, 6, 8, 10, 12, 14, 16, 18]"
      ]
     },
     "execution_count": 47,
     "metadata": {},
     "output_type": "execute_result"
    }
   ],
   "source": [
    "# 리스트 컴프리헨션\n",
    "[ item*2 for item in list_data ]"
   ]
  },
  {
   "cell_type": "code",
   "execution_count": 49,
   "id": "e1c8d814",
   "metadata": {},
   "outputs": [
    {
     "data": {
      "text/plain": [
       "[2, 4, 6, 8, 10, 12, 14, 16, 18]"
      ]
     },
     "execution_count": 49,
     "metadata": {},
     "output_type": "execute_result"
    }
   ],
   "source": [
    "list(map(lambda x:x*2, list_data))"
   ]
  },
  {
   "cell_type": "code",
   "execution_count": 50,
   "id": "ab6fb285",
   "metadata": {},
   "outputs": [
    {
     "name": "stdout",
     "output_type": "stream",
     "text": [
      "2 4 6 8 10 12 14 16 18 "
     ]
    }
   ],
   "source": [
    "for data in map(lambda x:x*2, list_data):\n",
    "    print(data, end=' ')"
   ]
  },
  {
   "cell_type": "code",
   "execution_count": 76,
   "id": "6c64b22c",
   "metadata": {},
   "outputs": [
    {
     "name": "stdout",
     "output_type": "stream",
     "text": [
      "5000 5000 6000 1000 5000 5000 6000 1000 "
     ]
    }
   ],
   "source": [
    "'''\n",
    "예제 1. prices = ['5,000', '5000', '6,000', '1000','5,000', '5000', '6,000', '1000’]를 [5000,5000,6000,1000]식으로 바꾸시오\n",
    "'''\n",
    "prices = ['5,000', '5000', '6,000', '1000','5,000', '5000', '6,000', '1000']\n",
    "def toint(value):\n",
    "    return int(value.relace(',',''))\n",
    "prices_int = map(lambda value : int(value.replace(',','')), prices)\n",
    "for prices in prices_int:\n",
    "    print(prices, end=' ')"
   ]
  },
  {
   "cell_type": "code",
   "execution_count": 125,
   "id": "14704c46",
   "metadata": {},
   "outputs": [
    {
     "data": {
      "text/plain": [
       "\"예제2 : members1을 members2로\\nmembers1 = [{'name':'홍길동', 'birth':'2000-01-01’},\\n            {'name':'신길동', 'birth':'1995-12-18'},]\\nmembers2 = [{'name':'홍길동', 'year':2000, 'month':1,'day':1},\\n            {'name':'신길동', 'year':1995, 'month':12, 'day':18},]\\n\""
      ]
     },
     "execution_count": 125,
     "metadata": {},
     "output_type": "execute_result"
    }
   ],
   "source": [
    "'''예제2 : members1을 members2로\n",
    "members1 = [{'name':'홍길동', 'birth':'2000-01-01’},\n",
    "            {'name':'신길동', 'birth':'1995-12-18'},]\n",
    "members2 = [{'name':'홍길동', 'year':2000, 'month':1,'day':1},\n",
    "            {'name':'신길동', 'year':1995, 'month':12, 'day':18},]\n",
    "'''"
   ]
  },
  {
   "cell_type": "code",
   "execution_count": 82,
   "id": "28701748",
   "metadata": {},
   "outputs": [],
   "source": [
    "members1 = [{'name':'홍길동', 'birth':'2000-01-01'},\n",
    "            {'name':'신길동', 'birth':'1995-12-18'},]"
   ]
  },
  {
   "cell_type": "code",
   "execution_count": 81,
   "id": "d0d2bacb",
   "metadata": {},
   "outputs": [
    {
     "data": {
      "text/plain": [
       "{'year': 2025, 'month': 1, 'day': 1}"
      ]
     },
     "execution_count": 81,
     "metadata": {},
     "output_type": "execute_result"
    }
   ],
   "source": [
    "# '2025-01-01' => {'year':2000, 'month':1,'day':1}\n",
    "def split_date(date):\n",
    "    split_date = date.split('-')\n",
    "    return {\n",
    "        'year':int(split_date[0]),\n",
    "        'month':int(split_date[1]),\n",
    "        'day':int(split_date[2])\n",
    "    }\n",
    "split_date('2025-01-01')"
   ]
  },
  {
   "cell_type": "code",
   "execution_count": 80,
   "id": "0f024cbc",
   "metadata": {},
   "outputs": [
    {
     "data": {
      "text/plain": [
       "({'year': 2025, 'month': 1, 'day': 1}, {'year': 1995, 'month': 12, 'day': 12})"
      ]
     },
     "execution_count": 80,
     "metadata": {},
     "output_type": "execute_result"
    }
   ],
   "source": [
    "# '2025-01-01' => {'year':2000, 'month':1,'day':1}\n",
    "def split_date(date):\n",
    "    return {\n",
    "        'year':int(date.split('-')[0]),\n",
    "        'month':int(date.split('-')[1]),\n",
    "        'day':int(date.split('-')[2])\n",
    "    }\n",
    "split_date('2025-01-01'), split_date('1995-12-12')"
   ]
  },
  {
   "cell_type": "code",
   "execution_count": 85,
   "id": "ef348d97",
   "metadata": {},
   "outputs": [
    {
     "data": {
      "text/plain": [
       "{'year': 2025, 'month': 1, 'day': 1}"
      ]
     },
     "execution_count": 85,
     "metadata": {},
     "output_type": "execute_result"
    }
   ],
   "source": [
    "# {'bith':'2025-01-01'} => {'year':2000, 'month':1,'day':1}\n",
    "def split_date(date):\n",
    "    return {\n",
    "        'year':int(date['birth'].split('-')[0]),\n",
    "        'month':int(date['birth'].split('-')[1]),\n",
    "        'day':int(date['birth'].split('-')[2])\n",
    "    }\n",
    "split_date({'birth':'2025-01-01'})"
   ]
  },
  {
   "cell_type": "code",
   "execution_count": 127,
   "id": "0e3ffbdc",
   "metadata": {},
   "outputs": [
    {
     "data": {
      "text/plain": [
       "{'name': '홍길동', 'year': 2000, 'month': 1, 'day': 1}"
      ]
     },
     "execution_count": 127,
     "metadata": {},
     "output_type": "execute_result"
    }
   ],
   "source": [
    "# {'name':'홍길동', 'birth':'2000-01-01'}=>{'name':'홍길동', 'year':2000, 'month':1. 'day':1}\n",
    "def member_preprocessing(member):\n",
    "    return {\n",
    "        'name' : member.get('name','이름없음'), # member['name']\n",
    "        'year' : int(member.get('birth').split('-')[0]),\n",
    "        'month': int(member.get('birth').split('-')[1]),\n",
    "        'day'  : int(member.get('birth').split('-')[2])\n",
    "    }\n",
    "member_preprocessing(members1[0])"
   ]
  },
  {
   "cell_type": "code",
   "execution_count": 91,
   "id": "d7a3b104",
   "metadata": {},
   "outputs": [
    {
     "data": {
      "text/plain": [
       "[{'name': '홍길동', 'year': 2000, 'month': 1, 'day': 1},\n",
       " {'name': '신길동', 'year': 1995, 'month': 12, 'day': 18}]"
      ]
     },
     "execution_count": 91,
     "metadata": {},
     "output_type": "execute_result"
    }
   ],
   "source": [
    "members2 = list(map(lambda member : {\n",
    "                                'name' : member.get('name','이름없음'),\n",
    "                                'year' : int(member.get('birth').split('-')[0]),\n",
    "                                'month': int(member.get('birth').split('-')[1]),\n",
    "                                'day'  : int(member.get('birth').split('-')[2]),\n",
    "                            }, members1\n",
    "                   )\n",
    "               )\n",
    "members2"
   ]
  },
  {
   "cell_type": "code",
   "execution_count": 89,
   "id": "e20c779e",
   "metadata": {},
   "outputs": [
    {
     "data": {
      "text/plain": [
       "[{'name': '홍길동', 'birth': '2000-01-01'},\n",
       " {'name': '신길동', 'birth': '1995-12-18'}]"
      ]
     },
     "execution_count": 89,
     "metadata": {},
     "output_type": "execute_result"
    }
   ],
   "source": [
    "'''\n",
    "예제3. members를 members1로 전환\n",
    "'''\n",
    "members1"
   ]
  },
  {
   "cell_type": "code",
   "execution_count": 102,
   "id": "b05a76a6",
   "metadata": {},
   "outputs": [
    {
     "data": {
      "text/plain": [
       "'2000-01-01'"
      ]
     },
     "execution_count": 102,
     "metadata": {},
     "output_type": "execute_result"
    }
   ],
   "source": [
    "# {'year':2000, 'month':1, 'day':1} => '2025-01-01' \n",
    "def join_date(data):\n",
    "    return\"{}-{:02}-{:02}\".format(data.get('year'), data.get('month'), data.get('day'))\n",
    "join_date({'year':2000, 'month':1, 'day':1})"
   ]
  },
  {
   "cell_type": "code",
   "execution_count": 105,
   "id": "8ead23e5",
   "metadata": {},
   "outputs": [
    {
     "data": {
      "text/plain": [
       "'2000-01-01'"
      ]
     },
     "execution_count": 105,
     "metadata": {},
     "output_type": "execute_result"
    }
   ],
   "source": [
    "# {'year':2000, 'month':1, 'day':1} => '2025-01-01' \n",
    "def join_date(data):\n",
    "    return\"{year}-{month:02}-{day:02}\".format(**data)\n",
    "join_date({'year':2000, 'month':1, 'day':1})"
   ]
  },
  {
   "cell_type": "code",
   "execution_count": 106,
   "id": "ef4d4f09",
   "metadata": {},
   "outputs": [
    {
     "data": {
      "text/plain": [
       "{'birth': '2000-01-01'}"
      ]
     },
     "execution_count": 106,
     "metadata": {},
     "output_type": "execute_result"
    }
   ],
   "source": [
    "# {'year':2000, 'month':1, 'day':1} => {'birth':'2025-01-01'} \n",
    "def join_date(data):\n",
    "    return{\"birth\" : \"{year}-{month:02}-{day:02}\".format(**data)}\n",
    "join_date({'year':2000, 'month':1, 'day':1})"
   ]
  },
  {
   "cell_type": "code",
   "execution_count": 122,
   "id": "9ef169f4",
   "metadata": {},
   "outputs": [
    {
     "data": {
      "text/plain": [
       "{'name': 'hong', 'birth': '2000-01-01'}"
      ]
     },
     "execution_count": 122,
     "metadata": {},
     "output_type": "execute_result"
    }
   ],
   "source": [
    "# {'name':hong','year':2000, 'month':1, 'day':1} => {'name':hong,'birth':'2025-01-01'} \n",
    "def members_preprecessing(member):\n",
    "    return{\n",
    "        'name': member.get('name'),\n",
    "        'birth': \"{year}-{month:02}-{day:02}\".format(**member)\n",
    "    }\n",
    "members_preprecessing({'name':'hong','year':2000, 'month':1, 'day':1})"
   ]
  },
  {
   "cell_type": "code",
   "execution_count": 123,
   "id": "a8ef0526",
   "metadata": {},
   "outputs": [
    {
     "data": {
      "text/plain": [
       "[{'name': '홍길동', 'birth': '2000-01-01'},\n",
       " {'name': '신길동', 'birth': '1995-12-18'}]"
      ]
     },
     "execution_count": 123,
     "metadata": {},
     "output_type": "execute_result"
    }
   ],
   "source": [
    "list(map(lambda member : {\n",
    "        'name': member.get('name'),\n",
    "        'birth': \"{year}-{month:02}-{day:02}\".format(**member)\n",
    "    }, members2))"
   ]
  },
  {
   "cell_type": "markdown",
   "id": "f80e08a9",
   "metadata": {},
   "source": [
    "### (2) filter"
   ]
  },
  {
   "cell_type": "code",
   "execution_count": 142,
   "id": "4c9d75fb",
   "metadata": {},
   "outputs": [],
   "source": [
    "def filter_template(func, L=[]):\n",
    "    result = []\n",
    "    for item in L:\n",
    "        if func(item):\n",
    "            result.append(item)\n",
    "    return result"
   ]
  },
  {
   "cell_type": "code",
   "execution_count": 133,
   "id": "4853e150",
   "metadata": {},
   "outputs": [
    {
     "data": {
      "text/plain": [
       "[1, 3, 5, 7, 9]"
      ]
     },
     "execution_count": 133,
     "metadata": {},
     "output_type": "execute_result"
    }
   ],
   "source": [
    "list_data = [1,2,3,4,5,6,7,8,9]\n",
    "def odd_chk(value):\n",
    "    return value%2!=0\n",
    "#     if value%2:\n",
    "#         return True\n",
    "#     else:\n",
    "#         return False\n",
    "filter_template(lambda value : value%2!=0, list_data)"
   ]
  },
  {
   "cell_type": "code",
   "execution_count": 135,
   "id": "4236c0e9",
   "metadata": {},
   "outputs": [
    {
     "data": {
      "text/plain": [
       "[1, 3, 5, 7, 9]"
      ]
     },
     "execution_count": 135,
     "metadata": {},
     "output_type": "execute_result"
    }
   ],
   "source": [
    "# 리스트 컴프리헨션\n",
    "[value for value in list_data if value%2!=0]"
   ]
  },
  {
   "cell_type": "code",
   "execution_count": 136,
   "id": "18526924",
   "metadata": {},
   "outputs": [
    {
     "data": {
      "text/plain": [
       "[1, 3, 5, 7, 9]"
      ]
     },
     "execution_count": 136,
     "metadata": {},
     "output_type": "execute_result"
    }
   ],
   "source": [
    "list(filter(lambda value : value%2!=0, list_data))"
   ]
  },
  {
   "cell_type": "code",
   "execution_count": 144,
   "id": "e4100cc1",
   "metadata": {},
   "outputs": [
    {
     "data": {
      "text/plain": [
       "[1, 3.0, 100, -2.0]"
      ]
     },
     "execution_count": 144,
     "metadata": {},
     "output_type": "execute_result"
    }
   ],
   "source": [
    "# 예제 : 다음 리스트에서 소수점 이하가 0인 수만 추출 하시오(filter)\n",
    "L = [1, 1.2, 1.5, 3.0, 10.5, 100, -2.0, -12.2]\n",
    "list(filter(lambda x : x%1.0==0, L))"
   ]
  },
  {
   "cell_type": "code",
   "execution_count": 145,
   "id": "0fc0602f",
   "metadata": {},
   "outputs": [
    {
     "data": {
      "text/plain": [
       "[1, 3.0, 100, -2.0]"
      ]
     },
     "execution_count": 145,
     "metadata": {},
     "output_type": "execute_result"
    }
   ],
   "source": [
    "[item for item in L if item%1==0]"
   ]
  },
  {
   "cell_type": "markdown",
   "id": "e278ee22",
   "metadata": {},
   "source": [
    "### (3) sort"
   ]
  },
  {
   "cell_type": "code",
   "execution_count": 147,
   "id": "34eaadd0",
   "metadata": {},
   "outputs": [
    {
     "data": {
      "text/plain": [
       "[10, 6, 3, 1]"
      ]
     },
     "execution_count": 147,
     "metadata": {},
     "output_type": "execute_result"
    }
   ],
   "source": [
    "p =[10, 3, 6, 1]\n",
    "p.sort(reverse = True)\n",
    "p"
   ]
  },
  {
   "cell_type": "code",
   "execution_count": 149,
   "id": "aff3828b",
   "metadata": {},
   "outputs": [
    {
     "data": {
      "text/plain": [
       "[(1, 'one'), (2, 'two'), (3, 'three'), (4, 'four')]"
      ]
     },
     "execution_count": 149,
     "metadata": {},
     "output_type": "execute_result"
    }
   ],
   "source": [
    "# 무조건 0번재 item을 기준으로 오름차순 정렬\n",
    "pairs = [(2, 'two'),(1, 'one'),(3, 'three'),(4, 'four')]\n",
    "pairs.sort()\n",
    "pairs"
   ]
  },
  {
   "cell_type": "code",
   "execution_count": 151,
   "id": "07972ecf",
   "metadata": {},
   "outputs": [
    {
     "data": {
      "text/plain": [
       "[(2, 'two'), (3, 'three'), (1, 'one'), (4, 'four')]"
      ]
     },
     "execution_count": 151,
     "metadata": {},
     "output_type": "execute_result"
    }
   ],
   "source": [
    "# 1번째 item 기준으로 내림차순 정렬\n",
    "pairs.sort(key=lambda data:data[1], reverse=True)\n",
    "pairs"
   ]
  },
  {
   "cell_type": "code",
   "execution_count": 159,
   "id": "87a2d3f6",
   "metadata": {},
   "outputs": [
    {
     "name": "stdout",
     "output_type": "stream",
     "text": [
      "[[1, 100], [10, 1], [9.9]]\n"
     ]
    }
   ],
   "source": [
    "# 0번째 아이템이 큰 순(오름차순)\n",
    "number_2d =[[9.9], [1,100], [10,1]]\n",
    "number_2d.sort(key=lambda items: sum(items), reverse = True)\n",
    "print(number_2d)\n",
    "# 합이 큰순으로 정렬"
   ]
  },
  {
   "cell_type": "code",
   "execution_count": 185,
   "id": "036e95cd",
   "metadata": {},
   "outputs": [
    {
     "data": {
      "text/plain": [
       "[{'name': '홍', 'score': 99},\n",
       " {'name': '김', 'score': 50},\n",
       " {'name': '박', 'score': 77},\n",
       " {'score': 100}]"
      ]
     },
     "execution_count": 185,
     "metadata": {},
     "output_type": "execute_result"
    }
   ],
   "source": [
    "students = [{'name':'홍', 'score':99},\n",
    "           {'name':'김', 'score':50},\n",
    "           {'name':'박', 'score':77},\n",
    "            {'score':100}]\n",
    "students"
   ]
  },
  {
   "cell_type": "code",
   "execution_count": 186,
   "id": "477b38aa",
   "metadata": {},
   "outputs": [
    {
     "data": {
      "text/plain": [
       "'힣'"
      ]
     },
     "execution_count": 186,
     "metadata": {},
     "output_type": "execute_result"
    }
   ],
   "source": [
    "name_select = lambda data : data.get('name', '힣')\n",
    "name_select({'score':99})"
   ]
  },
  {
   "cell_type": "code",
   "execution_count": 187,
   "id": "c50046cb",
   "metadata": {},
   "outputs": [
    {
     "data": {
      "text/plain": [
       "[{'name': '김', 'score': 50},\n",
       " {'name': '박', 'score': 77},\n",
       " {'name': '홍', 'score': 99},\n",
       " {'score': 100}]"
      ]
     },
     "execution_count": 187,
     "metadata": {},
     "output_type": "execute_result"
    }
   ],
   "source": [
    "# students를 name순으로 정렬(ㄱㄴㄷ순)\n",
    "students.sort(key=lambda data : data.get('name', '힣'))\n",
    "students"
   ]
  },
  {
   "cell_type": "code",
   "execution_count": 188,
   "id": "f3e6e1ea",
   "metadata": {},
   "outputs": [
    {
     "data": {
      "text/plain": [
       "[{'name': '김', 'score': 50},\n",
       " {'name': '박', 'score': 77},\n",
       " {'name': '홍', 'score': 99},\n",
       " {'score': 100}]"
      ]
     },
     "execution_count": 188,
     "metadata": {},
     "output_type": "execute_result"
    }
   ],
   "source": [
    "# students를 score 큰 순으로 정렬\n",
    "students.sort(key=lambda data : data.get('scor', 0), reverse=True)\n",
    "students"
   ]
  },
  {
   "cell_type": "code",
   "execution_count": 192,
   "id": "c5b4ead7",
   "metadata": {},
   "outputs": [],
   "source": [
    "books = \\\n",
    "   [{'no':2, 'title':'더트릭컬', 'writer':'폴빠','price':'19,800'},\n",
    "    {'no':1, 'title':'흔한남매', 'writer':'백난도', 'price':'15,120'},\n",
    "    {'no':3, 'title':'단 한 번의 삶', 'writer':'김영하', 'price':'15,120'},\n",
    "    {'no':4, 'title':'가격잘못', 'writer':'홍길동', 'price':'ㅁ'},\n",
    "    {'no':5, 'title':'가격이숫자', 'writer':'백난도', 'price':30200},\n",
    "    {'no':6, 'title':'가격이없음', 'writer':'이길동'},]"
   ]
  },
  {
   "cell_type": "code",
   "execution_count": 193,
   "id": "7a80fdff",
   "metadata": {},
   "outputs": [
    {
     "data": {
      "text/plain": [
       "[{'no': 1, 'title': '흔한남매', 'writer': '백난도', 'price': '15,120'},\n",
       " {'no': 2, 'title': '더트릭컬', 'writer': '폴빠', 'price': '19,800'},\n",
       " {'no': 3, 'title': '단 한 번의 삶', 'writer': '김영하', 'price': '15,120'},\n",
       " {'no': 4, 'title': '가격잘못', 'writer': '홍길동', 'price': 'ㅁ'},\n",
       " {'no': 5, 'title': '가격이숫자', 'writer': '백난도', 'price': 30200},\n",
       " {'no': 6, 'title': '가격이없음', 'writer': '이길동'}]"
      ]
     },
     "execution_count": 193,
     "metadata": {},
     "output_type": "execute_result"
    }
   ],
   "source": [
    "# no기준으로 sort\n",
    "books.sort(key = lambda book : book['no'])\n",
    "books"
   ]
  },
  {
   "cell_type": "code",
   "execution_count": 242,
   "id": "bd32cc3e",
   "metadata": {},
   "outputs": [
    {
     "data": {
      "text/plain": [
       "[{'no': 5, 'title': '가격이숫자', 'writer': '백난도', 'price': 30200},\n",
       " {'no': 6, 'title': '가격이없음', 'writer': '이길동'},\n",
       " {'no': 4, 'title': '가격잘못', 'writer': '홍길동', 'price': 'ㅁ'},\n",
       " {'no': 3, 'title': '단 한 번의 삶', 'writer': '김영하', 'price': '15,120'},\n",
       " {'no': 2, 'title': '더트릭컬', 'writer': '폴빠', 'price': '19,800'},\n",
       " {'no': 1, 'title': '흔한남매', 'writer': '백난도', 'price': '15,120'}]"
      ]
     },
     "execution_count": 242,
     "metadata": {},
     "output_type": "execute_result"
    }
   ],
   "source": [
    "# title기준으로 sort\n",
    "books.sort(key = lambda book : book['title'])\n",
    "books"
   ]
  },
  {
   "cell_type": "code",
   "execution_count": 197,
   "id": "5c022c5d",
   "metadata": {},
   "outputs": [
    {
     "ename": "TypeError",
     "evalue": "'<' not supported between instances of 'str' and 'int'",
     "output_type": "error",
     "traceback": [
      "\u001b[1;31m---------------------------------------------------------------------------\u001b[0m",
      "\u001b[1;31mTypeError\u001b[0m                                 Traceback (most recent call last)",
      "Cell \u001b[1;32mIn[197], line 1\u001b[0m\n\u001b[1;32m----> 1\u001b[0m \u001b[43mbooks\u001b[49m\u001b[38;5;241;43m.\u001b[39;49m\u001b[43msort\u001b[49m\u001b[43m(\u001b[49m\u001b[43mkey\u001b[49m\u001b[43m \u001b[49m\u001b[38;5;241;43m=\u001b[39;49m\u001b[43m \u001b[49m\u001b[38;5;28;43;01mlambda\u001b[39;49;00m\u001b[43m \u001b[49m\u001b[43mbook\u001b[49m\u001b[43m \u001b[49m\u001b[43m:\u001b[49m\u001b[43m \u001b[49m\u001b[43mbook\u001b[49m\u001b[38;5;241;43m.\u001b[39;49m\u001b[43mget\u001b[49m\u001b[43m(\u001b[49m\u001b[38;5;124;43m'\u001b[39;49m\u001b[38;5;124;43mprice\u001b[39;49m\u001b[38;5;124;43m'\u001b[39;49m\u001b[43m,\u001b[49m\u001b[38;5;241;43m0\u001b[39;49m\u001b[43m)\u001b[49m\u001b[43m)\u001b[49m\n\u001b[0;32m      2\u001b[0m books\n",
      "\u001b[1;31mTypeError\u001b[0m: '<' not supported between instances of 'str' and 'int'"
     ]
    }
   ],
   "source": [
    "books.sort(key = lambda book : book.get('price',0))\n",
    "books"
   ]
  },
  {
   "cell_type": "code",
   "execution_count": 240,
   "id": "fd66ef2b",
   "metadata": {},
   "outputs": [
    {
     "name": "stdout",
     "output_type": "stream",
     "text": [
      "12000 30200 0 0\n"
     ]
    }
   ],
   "source": [
    "# 30200=> 32000, '12,000'=> 12000, '5000'=> 5000, 'ㅁ'=> 0, None=> 0\n",
    "def parse_int(price):\n",
    "    if isinstance(price, str) and price.replace(',','').isdigit():\n",
    "        return int(price.replace(',',''))\n",
    "    elif isinstance(price, int):\n",
    "        return price\n",
    "    else:\n",
    "        return 0\n",
    "    \n",
    "def parse_int(price):\n",
    "    if str(price).replace(',','').isdigit():\n",
    "        return int(str(price).replace(',',''))\n",
    "    else:\n",
    "        return 0\n",
    "    \n",
    "parse_int = lambda price :\\\n",
    "            int(price.replace(',',''))\\\n",
    "                if isinstance(price, str) and price.replace(',','').isdigit() else\\\n",
    "            price if isinstance(price, int) else\\\n",
    "            0\n",
    "\n",
    "print(parse_int('12,000'), parse_int(30200), parse_int('ㅁ'), parse_int(None))"
   ]
  },
  {
   "cell_type": "code",
   "execution_count": 247,
   "id": "55bbf4d7",
   "metadata": {},
   "outputs": [
    {
     "data": {
      "text/plain": [
       "0"
      ]
     },
     "execution_count": 247,
     "metadata": {},
     "output_type": "execute_result"
    }
   ],
   "source": [
    "# {'no': 5, 'tit;le': '가격이숫자', 'writer': '백난도', 'price': '12,000'} => 12000\n",
    "parse_int = lambda book :\\\n",
    "            int(book.get('price').replace(',',''))\\\n",
    "                    if isinstance(book.get('price'), str) and\\\n",
    "                                book.get('price').replace(',','').isdigit() else\\\n",
    "            book.get('price') if isinstance(book.get('price'), int) else\\\n",
    "            0\n",
    "parse_int({'no': 5, 'title': '가격이숫자', 'writer': '백난도', 'price': 'ㅁ'})"
   ]
  },
  {
   "cell_type": "code",
   "execution_count": 249,
   "id": "54461217",
   "metadata": {},
   "outputs": [
    {
     "data": {
      "text/plain": [
       "0"
      ]
     },
     "execution_count": 249,
     "metadata": {},
     "output_type": "execute_result"
    }
   ],
   "source": [
    "copyBooks = books.copy() # 복제\n",
    "copyBooks.sort(key = lambda book :\\\n",
    "            int(book.get('price').replace(',',''))\\\n",
    "                    if isinstance(book.get('price'), str) and\\\n",
    "                                book.get('price').replace(',','').isdigit() else\\\n",
    "            book.get('price') if isinstance(book.get('price'), int) else\\\n",
    "            0,\n",
    "           reverse=True)\n",
    "parse_int({'no': 5, 'title': '가격이숫자', 'writer': '백난도', 'price': 'ㅁ'})"
   ]
  },
  {
   "cell_type": "markdown",
   "id": "3f889269",
   "metadata": {},
   "source": [
    "# 5절 파이썬 내장함수\n",
    "- import 하지않고 바로 사용 가능한 함수\n",
    "- 키워드(if, while,...)처럼 간주되므로, 식별자(변수명, 함수명, 클래스명)로 사용하는것을 피한다"
   ]
  },
  {
   "cell_type": "code",
   "execution_count": 2,
   "id": "89a71f12",
   "metadata": {},
   "outputs": [],
   "source": [
    "a = 10"
   ]
  },
  {
   "cell_type": "code",
   "execution_count": 3,
   "id": "64fa5c21",
   "metadata": {
    "scrolled": false
   },
   "outputs": [
    {
     "data": {
      "text/plain": [
       "{'__name__': '__main__',\n",
       " '__doc__': 'Automatically created module for IPython interactive environment',\n",
       " '__package__': None,\n",
       " '__loader__': None,\n",
       " '__spec__': None,\n",
       " '__builtin__': <module 'builtins' (built-in)>,\n",
       " '__builtins__': <module 'builtins' (built-in)>,\n",
       " '_ih': ['', 'globals()', 'a = 10', 'globals()'],\n",
       " '_oh': {1: {...}},\n",
       " '_dh': [WindowsPath('C:/ai/source/01_python')],\n",
       " 'In': ['', 'globals()', 'a = 10', 'globals()'],\n",
       " 'Out': {1: {...}},\n",
       " 'get_ipython': <bound method InteractiveShell.get_ipython of <ipykernel.zmqshell.ZMQInteractiveShell object at 0x00000181AE933730>>,\n",
       " 'exit': <IPython.core.autocall.ZMQExitAutocall at 0x181ae93fee0>,\n",
       " 'quit': <IPython.core.autocall.ZMQExitAutocall at 0x181ae93fee0>,\n",
       " 'open': <function io.open(file, mode='r', buffering=-1, encoding=None, errors=None, newline=None, closefd=True, opener=None)>,\n",
       " '_': {...},\n",
       " '__': '',\n",
       " '___': '',\n",
       " '_i': 'a = 10',\n",
       " '_ii': 'globals()',\n",
       " '_iii': '',\n",
       " '_i1': 'globals()',\n",
       " '_1': {...},\n",
       " '_i2': 'a = 10',\n",
       " 'a': 10,\n",
       " '_i3': 'globals()'}"
      ]
     },
     "execution_count": 3,
     "metadata": {},
     "output_type": "execute_result"
    }
   ],
   "source": [
    "globals() # 전역변수 리스트"
   ]
  },
  {
   "cell_type": "code",
   "execution_count": 4,
   "id": "4944c07b",
   "metadata": {},
   "outputs": [
    {
     "data": {
      "text/plain": [
       "False"
      ]
     },
     "execution_count": 4,
     "metadata": {},
     "output_type": "execute_result"
    }
   ],
   "source": [
    "all([True, True, True, False]) # 모든 요소가 다 True인지 여부"
   ]
  },
  {
   "cell_type": "markdown",
   "id": "0c7533ce",
   "metadata": {},
   "source": [
    "# 6절 연습문제\n",
    "## 실습형"
   ]
  },
  {
   "cell_type": "code",
   "execution_count": null,
   "id": "e25c9708",
   "metadata": {},
   "outputs": [],
   "source": []
  },
  {
   "cell_type": "code",
   "execution_count": null,
   "id": "93915416",
   "metadata": {},
   "outputs": [],
   "source": []
  },
  {
   "cell_type": "code",
   "execution_count": 5,
   "id": "a1ce79f5",
   "metadata": {},
   "outputs": [
    {
     "data": {
      "text/plain": [
       "{'넓이': 6.0, '둘레': 12.0}"
      ]
     },
     "execution_count": 5,
     "metadata": {},
     "output_type": "execute_result"
    }
   ],
   "source": [
    "# 실습형 3: 직각삼각형 w, h로 area, perimeter(넓이, 둘레)\n",
    "import math\n",
    "def get_trianle(w, h):\n",
    "    area = w * h * 0.5\n",
    "    # math.sqrt() : 제곱근\n",
    "    perimeter = w + h + math.sqrt(w*w + h*h)\n",
    "    # return area, perimeter\n",
    "    return{'넓이':area, '둘레':perimeter}\n",
    "get_trianle(3,4)"
   ]
  },
  {
   "cell_type": "markdown",
   "id": "044edabf",
   "metadata": {},
   "source": [
    "## 서술형"
   ]
  },
  {
   "cell_type": "code",
   "execution_count": 6,
   "id": "91c82366",
   "metadata": {},
   "outputs": [
    {
     "data": {
      "text/plain": [
       "[(4, 'a'), (3, 'b'), (2, 'c'), (1, 'd')]"
      ]
     },
     "execution_count": 6,
     "metadata": {},
     "output_type": "execute_result"
    }
   ],
   "source": [
    "# 2\n",
    "pairs = [(1,'d'),(2,'c'),(3,'b'),(4,'a')]\n",
    "pairs.sort(key=lambda pair:pair[1])\n",
    "pairs"
   ]
  },
  {
   "cell_type": "code",
   "execution_count": 19,
   "id": "eeb40395",
   "metadata": {},
   "outputs": [
    {
     "ename": "IndentationError",
     "evalue": "unexpected indent (1177165547.py, line 4)",
     "output_type": "error",
     "traceback": [
      "\u001b[1;36m  Cell \u001b[1;32mIn[19], line 4\u001b[1;36m\u001b[0m\n\u001b[1;33m    print(a, end='')\u001b[0m\n\u001b[1;37m    ^\u001b[0m\n\u001b[1;31mIndentationError\u001b[0m\u001b[1;31m:\u001b[0m unexpected indent\n"
     ]
    }
   ],
   "source": [
    "a = 10\n",
    "def sub():\n",
    "    a += 1\n",
    "            print(a, end='')\n",
    "\n",
    "def func():\n",
    "    for i in range(2):\n",
    "        a =5\n",
    "        a += 1\n",
    "                print(a, end='')\n",
    "                sub()\n",
    "            \n",
    "a += 1\n",
    "func()"
   ]
  },
  {
   "cell_type": "code",
   "execution_count": null,
   "id": "8767b300",
   "metadata": {},
   "outputs": [],
   "source": []
  }
 ],
 "metadata": {
  "kernelspec": {
   "display_name": "Python 3 (ipykernel)",
   "language": "python",
   "name": "python3"
  },
  "language_info": {
   "codemirror_mode": {
    "name": "ipython",
    "version": 3
   },
   "file_extension": ".py",
   "mimetype": "text/x-python",
   "name": "python",
   "nbconvert_exporter": "python",
   "pygments_lexer": "ipython3",
   "version": "3.10.9"
  },
  "toc": {
   "base_numbering": 1,
   "nav_menu": {},
   "number_sections": false,
   "sideBar": true,
   "skip_h1_title": false,
   "title_cell": "Table of Contents",
   "title_sidebar": "Contents",
   "toc_cell": false,
   "toc_position": {
    "height": "calc(100% - 180px)",
    "left": "10px",
    "top": "150px",
    "width": "165px"
   },
   "toc_section_display": true,
   "toc_window_display": true
  }
 },
 "nbformat": 4,
 "nbformat_minor": 5
}
