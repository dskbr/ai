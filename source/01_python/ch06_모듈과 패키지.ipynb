{
 "cells": [
  {
   "cell_type": "code",
   "execution_count": 29,
   "id": "17b41d6b",
   "metadata": {},
   "outputs": [
    {
     "data": {
      "text/html": [
       "\n",
       "<style>\n",
       "div.container{width:90% !important;}\n",
       "div.cell.code_cell.rendered{width:100%;}\n",
       "div.input_prompt{padding:0px;}\n",
       "div.CodeMirror {font-family:Consolas; font-size:14pt;}\n",
       "div.text_cell_render.rendered_html{font-size:14pt;}\n",
       "div.output {font-size:14pt; font-weight:bold;}\n",
       "div.input {font-family:Consolas; font-size:14pt;}\n",
       "div.prompt {min-width:70px;}\n",
       "div#toc-wrapper{padding-top:120px;}\n",
       "div.text_cell_render ul li{font-size:14pt;padding:5px;}\n",
       "table.dataframe{font-size:14px;}\n",
       "</style>\n"
      ],
      "text/plain": [
       "<IPython.core.display.HTML object>"
      ]
     },
     "metadata": {},
     "output_type": "display_data"
    }
   ],
   "source": [
    "from IPython.display import display, HTML\n",
    "display(HTML(\"\"\"\n",
    "<style>\n",
    "div.container{width:90% !important;}\n",
    "div.cell.code_cell.rendered{width:100%;}\n",
    "div.input_prompt{padding:0px;}\n",
    "div.CodeMirror {font-family:Consolas; font-size:14pt;}\n",
    "div.text_cell_render.rendered_html{font-size:14pt;}\n",
    "div.output {font-size:14pt; font-weight:bold;}\n",
    "div.input {font-family:Consolas; font-size:14pt;}\n",
    "div.prompt {min-width:70px;}\n",
    "div#toc-wrapper{padding-top:120px;}\n",
    "div.text_cell_render ul li{font-size:14pt;padding:5px;}\n",
    "table.dataframe{font-size:14px;}\n",
    "</style>\n",
    "\"\"\"))"
   ]
  },
  {
   "cell_type": "markdown",
   "id": "66910d09",
   "metadata": {},
   "source": [
    "# ch06. 모듈과 패키지\n",
    "## 1절 파이썬 표준 모듈 사용\n",
    "- 모듈 : 함수, 변수, 클래스 등을 담고 있는 파이썬 코드 파일(*.py)\n",
    "- python.org : 파이썬 표준 모듈 200여개는 파이썬 인터프리터와 함께 install 됨(sys, re, datetime,time,...)\n",
    "- miniconda는 python.org버전보다 조금 더 많은 모듈을 install\n",
    "- anaconda는 1500개 이상의 패키지 install(정확한 갯수는 버전마다 상이)"
   ]
  },
  {
   "cell_type": "code",
   "execution_count": 1,
   "id": "fe86db3d",
   "metadata": {},
   "outputs": [
    {
     "data": {
      "text/plain": [
       "'Fri Sep 26 09:16:48 2025'"
      ]
     },
     "execution_count": 1,
     "metadata": {},
     "output_type": "execute_result"
    }
   ],
   "source": [
    "# 1. import 모듈명 : 모듈안의 함수, 클래스, 변수를 모듈명.함수명().. 사용\n",
    "import time\n",
    "time.ctime()"
   ]
  },
  {
   "cell_type": "code",
   "execution_count": 2,
   "id": "fcea3132",
   "metadata": {},
   "outputs": [
    {
     "data": {
      "text/plain": [
       "1758845816.675936"
      ]
     },
     "execution_count": 2,
     "metadata": {},
     "output_type": "execute_result"
    }
   ],
   "source": [
    "time.time() # 1970.1.1부터의 초수"
   ]
  },
  {
   "cell_type": "code",
   "execution_count": 3,
   "id": "1d68bab9",
   "metadata": {},
   "outputs": [],
   "source": [
    "del time # time 모듈을 메모리에서 unload"
   ]
  },
  {
   "cell_type": "code",
   "execution_count": 4,
   "id": "c7482766",
   "metadata": {},
   "outputs": [
    {
     "data": {
      "text/plain": [
       "'Fri Sep 26 09:20:42 2025'"
      ]
     },
     "execution_count": 4,
     "metadata": {},
     "output_type": "execute_result"
    }
   ],
   "source": [
    "# 2. from 모듈(A) import 함수|클래스|변수(B) : A모듈안의 B만 로드\n",
    "#    from 패키지(A) import 모듈(B) : A패키지안의 B모듈을 로드\n",
    "#    from 패키지(A).모듈명(B) import 함수명(C) : A(패키지)안의 .B 모듈안의 C함수만 로드\n",
    "from time import ctime, time\n",
    "ctime()"
   ]
  },
  {
   "cell_type": "code",
   "execution_count": 5,
   "id": "982e40c7",
   "metadata": {},
   "outputs": [
    {
     "data": {
      "text/plain": [
       "1758846043.2902937"
      ]
     },
     "execution_count": 5,
     "metadata": {},
     "output_type": "execute_result"
    }
   ],
   "source": [
    "time()"
   ]
  },
  {
   "cell_type": "code",
   "execution_count": 6,
   "id": "5ea8fd2c",
   "metadata": {},
   "outputs": [],
   "source": [
    "del ctime\n",
    "del time"
   ]
  },
  {
   "cell_type": "code",
   "execution_count": 7,
   "id": "ff1ccbb2",
   "metadata": {},
   "outputs": [
    {
     "data": {
      "text/plain": [
       "'Fri Sep 26 09:20:47 2025'"
      ]
     },
     "execution_count": 7,
     "metadata": {},
     "output_type": "execute_result"
    }
   ],
   "source": [
    "# 3. import A as B     - A모듈을 B이름으로 메모리 로드\n",
    "import time as t\n",
    "t.ctime()"
   ]
  },
  {
   "cell_type": "code",
   "execution_count": 8,
   "id": "4006128a",
   "metadata": {},
   "outputs": [
    {
     "data": {
      "text/plain": [
       "1758846049.4930847"
      ]
     },
     "execution_count": 8,
     "metadata": {},
     "output_type": "execute_result"
    }
   ],
   "source": [
    "t.time()"
   ]
  },
  {
   "cell_type": "code",
   "execution_count": 9,
   "id": "41877861",
   "metadata": {},
   "outputs": [],
   "source": [
    "del t"
   ]
  },
  {
   "cell_type": "code",
   "execution_count": 10,
   "id": "afdef7b1",
   "metadata": {},
   "outputs": [
    {
     "data": {
      "text/plain": [
       "'Fri Sep 26 09:20:52 2025'"
      ]
     },
     "execution_count": 10,
     "metadata": {},
     "output_type": "execute_result"
    }
   ],
   "source": [
    "# 4. from 모듈명 import 함수명 as 별칭\n",
    "#    from 패키지명 import 모듈명 as 별칭\n",
    "#    from 패키지명.모듈명 import 함수명 as 별칭\n",
    "from time import ctime as ct, time as ti\n",
    "ct()"
   ]
  },
  {
   "cell_type": "code",
   "execution_count": 11,
   "id": "4239ec60",
   "metadata": {},
   "outputs": [
    {
     "data": {
      "text/plain": [
       "1758846053.2589238"
      ]
     },
     "execution_count": 11,
     "metadata": {},
     "output_type": "execute_result"
    }
   ],
   "source": [
    "ti()"
   ]
  },
  {
   "cell_type": "code",
   "execution_count": 12,
   "id": "76ecb9a8",
   "metadata": {},
   "outputs": [],
   "source": [
    "import time"
   ]
  },
  {
   "cell_type": "code",
   "execution_count": null,
   "id": "4584b382",
   "metadata": {},
   "outputs": [],
   "source": [
    "print(dir(time)) # time 내의 함수, 변수, 클래스 등이 list로 출력"
   ]
  },
  {
   "cell_type": "markdown",
   "id": "96911320",
   "metadata": {},
   "source": [
    "## 2절 사용자 정의 모듈\n",
    "- 함수나 클래스 등을 파이썬 파일에 저장해서 모듈을 만들고 재사용할 수 있음\n",
    "- 모듈을 가져오는 순서 (1)표준모듈 (2)sys.path변수에 저장된 경로"
   ]
  },
  {
   "cell_type": "code",
   "execution_count": 30,
   "id": "40d11abd",
   "metadata": {},
   "outputs": [
    {
     "name": "stdout",
     "output_type": "stream",
     "text": [
      "['C:\\\\ai\\\\source\\\\01_python', 'C:\\\\Users\\\\Admin\\\\anaconda3\\\\python310.zip', 'C:\\\\Users\\\\Admin\\\\anaconda3\\\\DLLs', 'C:\\\\Users\\\\Admin\\\\anaconda3\\\\lib', 'C:\\\\Users\\\\Admin\\\\anaconda3', '', 'C:\\\\Users\\\\Admin\\\\anaconda3\\\\lib\\\\site-packages', 'C:\\\\Users\\\\Admin\\\\anaconda3\\\\lib\\\\site-packages\\\\win32', 'C:\\\\Users\\\\Admin\\\\anaconda3\\\\lib\\\\site-packages\\\\win32\\\\lib', 'C:\\\\Users\\\\Admin\\\\anaconda3\\\\lib\\\\site-packages\\\\Pythonwin', 'D:\\\\ai\\\\source\\\\pylib', 'C:\\\\ai\\\\source\\\\pylib', 'D:\\\\ai\\\\source\\\\pylib', 'C:\\\\Users\\\\Admin\\\\anaconda3\\\\Lib', 'C:\\\\Users\\\\Admin\\\\anaconda3\\\\Lib']\n"
     ]
    }
   ],
   "source": [
    "import sys\n",
    "#sys.path.pop() # 맨 끝index 데이터 제거\n",
    "sys.path.append(r'C:\\Users\\Admin\\anaconda3\\Lib')\n",
    "print(sys.path)"
   ]
  },
  {
   "cell_type": "code",
   "execution_count": 31,
   "id": "1561d26c",
   "metadata": {},
   "outputs": [
    {
     "ename": "ModuleNotFoundError",
     "evalue": "No module named 'fibonacci'",
     "output_type": "error",
     "traceback": [
      "\u001b[1;31m---------------------------------------------------------------------------\u001b[0m",
      "\u001b[1;31mModuleNotFoundError\u001b[0m                       Traceback (most recent call last)",
      "Cell \u001b[1;32mIn[31], line 2\u001b[0m\n\u001b[0;32m      1\u001b[0m \u001b[38;5;66;03m# 1.import 모듈명\u001b[39;00m\n\u001b[1;32m----> 2\u001b[0m \u001b[38;5;28;01mimport\u001b[39;00m \u001b[38;5;21;01mfibonacci\u001b[39;00m\n",
      "\u001b[1;31mModuleNotFoundError\u001b[0m: No module named 'fibonacci'"
     ]
    }
   ],
   "source": [
    "# 1.import 모듈명\n",
    "import fibonacci"
   ]
  },
  {
   "cell_type": "code",
   "execution_count": 32,
   "id": "a74df068",
   "metadata": {},
   "outputs": [
    {
     "ename": "NameError",
     "evalue": "name 'fibonacci' is not defined",
     "output_type": "error",
     "traceback": [
      "\u001b[1;31m---------------------------------------------------------------------------\u001b[0m",
      "\u001b[1;31mNameError\u001b[0m                                 Traceback (most recent call last)",
      "Cell \u001b[1;32mIn[32], line 1\u001b[0m\n\u001b[1;32m----> 1\u001b[0m \u001b[43mfibonacci\u001b[49m\u001b[38;5;241m.\u001b[39mfibonacci(\u001b[38;5;241m10\u001b[39m)\n",
      "\u001b[1;31mNameError\u001b[0m: name 'fibonacci' is not defined"
     ]
    }
   ],
   "source": [
    "fibonacci.fibonacci(10)"
   ]
  },
  {
   "cell_type": "code",
   "execution_count": 18,
   "id": "fad78560",
   "metadata": {},
   "outputs": [
    {
     "ename": "NameError",
     "evalue": "name 'fibonacci' is not defined",
     "output_type": "error",
     "traceback": [
      "\u001b[1;31m---------------------------------------------------------------------------\u001b[0m",
      "\u001b[1;31mNameError\u001b[0m                                 Traceback (most recent call last)",
      "Cell \u001b[1;32mIn[18], line 1\u001b[0m\n\u001b[1;32m----> 1\u001b[0m \u001b[43mfibonacci\u001b[49m\u001b[38;5;241m.\u001b[39mfibonacci_print(\u001b[38;5;241m11\u001b[39m)\n",
      "\u001b[1;31mNameError\u001b[0m: name 'fibonacci' is not defined"
     ]
    }
   ],
   "source": [
    "fibonacci.fibonacci_print(11)"
   ]
  },
  {
   "cell_type": "code",
   "execution_count": 19,
   "id": "935d6af3",
   "metadata": {},
   "outputs": [
    {
     "ename": "NameError",
     "evalue": "name 'fibonacci' is not defined",
     "output_type": "error",
     "traceback": [
      "\u001b[1;31m---------------------------------------------------------------------------\u001b[0m",
      "\u001b[1;31mNameError\u001b[0m                                 Traceback (most recent call last)",
      "Cell \u001b[1;32mIn[19], line 1\u001b[0m\n\u001b[1;32m----> 1\u001b[0m \u001b[38;5;28;01mdel\u001b[39;00m fibonacci\n",
      "\u001b[1;31mNameError\u001b[0m: name 'fibonacci' is not defined"
     ]
    }
   ],
   "source": [
    "del fibonacci"
   ]
  },
  {
   "cell_type": "code",
   "execution_count": 20,
   "id": "5edbeaf6",
   "metadata": {},
   "outputs": [
    {
     "ename": "ModuleNotFoundError",
     "evalue": "No module named 'fibonacci'",
     "output_type": "error",
     "traceback": [
      "\u001b[1;31m---------------------------------------------------------------------------\u001b[0m",
      "\u001b[1;31mModuleNotFoundError\u001b[0m                       Traceback (most recent call last)",
      "Cell \u001b[1;32mIn[20], line 2\u001b[0m\n\u001b[0;32m      1\u001b[0m \u001b[38;5;66;03m# 2. from 모듈명 import 함수명\u001b[39;00m\n\u001b[1;32m----> 2\u001b[0m \u001b[38;5;28;01mfrom\u001b[39;00m \u001b[38;5;21;01mfibonacci\u001b[39;00m \u001b[38;5;28;01mimport\u001b[39;00m fibonacci_print, fibonacci\n",
      "\u001b[1;31mModuleNotFoundError\u001b[0m: No module named 'fibonacci'"
     ]
    }
   ],
   "source": [
    "# 2. from 모듈명 import 함수명\n",
    "from fibonacci import fibonacci_print, fibonacci"
   ]
  },
  {
   "cell_type": "code",
   "execution_count": null,
   "id": "e806d21a",
   "metadata": {},
   "outputs": [],
   "source": [
    "fibonacci_print(10)"
   ]
  },
  {
   "cell_type": "code",
   "execution_count": null,
   "id": "07af4251",
   "metadata": {},
   "outputs": [],
   "source": [
    "fibonacci(100)"
   ]
  },
  {
   "cell_type": "code",
   "execution_count": null,
   "id": "01c95b3b",
   "metadata": {},
   "outputs": [],
   "source": [
    "del fibonacci_print, fibonacci"
   ]
  },
  {
   "cell_type": "code",
   "execution_count": null,
   "id": "ca85fb86",
   "metadata": {},
   "outputs": [],
   "source": [
    "# 3. import 모듈명 as 별칭\n",
    "import fibonacci as fi\n",
    "fi.fibonacci(10)"
   ]
  },
  {
   "cell_type": "code",
   "execution_count": null,
   "id": "5814eeed",
   "metadata": {},
   "outputs": [],
   "source": [
    "fi.fibonacci_print(10)"
   ]
  },
  {
   "cell_type": "code",
   "execution_count": null,
   "id": "720929c9",
   "metadata": {},
   "outputs": [],
   "source": [
    "# 4. from 모듈명 import 함수명 as 별칭\n",
    "# from fibonacci import fibonacci as fibo\n",
    "# from fibonacci import fibonacci_print as fibo_p\n",
    "from fibonacci import fibonacci as fibo, fibonacci_print as fibo_p"
   ]
  },
  {
   "cell_type": "code",
   "execution_count": null,
   "id": "d27efe5e",
   "metadata": {},
   "outputs": [],
   "source": [
    "fibo(10)"
   ]
  },
  {
   "cell_type": "code",
   "execution_count": null,
   "id": "5b078a65",
   "metadata": {},
   "outputs": [],
   "source": [
    "fibo_p(100)"
   ]
  },
  {
   "cell_type": "markdown",
   "id": "4089dc9f",
   "metadata": {},
   "source": [
    "## 3절 패키지\n",
    "- 모듈이 들어있는 폴더(__init__.py)"
   ]
  },
  {
   "cell_type": "code",
   "execution_count": 38,
   "id": "5e8664ec",
   "metadata": {},
   "outputs": [
    {
     "data": {
      "text/plain": [
       "['C:\\\\ai\\\\source\\\\01_python',\n",
       " 'C:\\\\Users\\\\Admin\\\\anaconda3\\\\python310.zip',\n",
       " 'C:\\\\Users\\\\Admin\\\\anaconda3\\\\DLLs',\n",
       " 'C:\\\\Users\\\\Admin\\\\anaconda3\\\\lib',\n",
       " 'C:\\\\Users\\\\Admin\\\\anaconda3',\n",
       " '',\n",
       " 'C:\\\\Users\\\\Admin\\\\anaconda3\\\\lib\\\\site-packages',\n",
       " 'C:\\\\Users\\\\Admin\\\\anaconda3\\\\lib\\\\site-packages\\\\win32',\n",
       " 'C:\\\\Users\\\\Admin\\\\anaconda3\\\\lib\\\\site-packages\\\\win32\\\\lib',\n",
       " 'C:\\\\Users\\\\Admin\\\\anaconda3\\\\lib\\\\site-packages\\\\Pythonwin',\n",
       " 'D:\\\\ai\\\\source\\\\pylib',\n",
       " 'C:\\\\ai\\\\source\\\\pylib',\n",
       " 'D:\\\\ai\\\\source\\\\pylib',\n",
       " 'C:\\\\Users\\\\Admin\\\\anaconda3\\\\Lib',\n",
       " 'C:\\\\Users\\\\Admin\\\\anaconda3\\\\Lib',\n",
       " 'D:\\x07i\\\\source\\\\pylib',\n",
       " 'c:\\x07i\\\\source\\\\pylib',\n",
       " 'C:\\x07i\\\\source\\\\pylib']"
      ]
     },
     "execution_count": 38,
     "metadata": {},
     "output_type": "execute_result"
    }
   ],
   "source": [
    "import sys\n",
    "sys.path.append('C:\\ai\\source\\pylib')\n",
    "sys.path"
   ]
  },
  {
   "cell_type": "code",
   "execution_count": 36,
   "id": "e3ce41db",
   "metadata": {},
   "outputs": [
    {
     "ename": "ModuleNotFoundError",
     "evalue": "No module named 'sample_pac'",
     "output_type": "error",
     "traceback": [
      "\u001b[1;31m---------------------------------------------------------------------------\u001b[0m",
      "\u001b[1;31mModuleNotFoundError\u001b[0m                       Traceback (most recent call last)",
      "Cell \u001b[1;32mIn[36], line 2\u001b[0m\n\u001b[0;32m      1\u001b[0m \u001b[38;5;66;03m# 상위패키지를 import한다고 하위패키지가 import되지 않습니다\u001b[39;00m\n\u001b[1;32m----> 2\u001b[0m \u001b[38;5;28;01mimport\u001b[39;00m \u001b[38;5;21;01msample_pac\u001b[39;00m\n",
      "\u001b[1;31mModuleNotFoundError\u001b[0m: No module named 'sample_pac'"
     ]
    }
   ],
   "source": [
    "# 상위패키지를 import한다고 하위패키지가 import되지 않습니다\n",
    "import sample_pac"
   ]
  },
  {
   "cell_type": "code",
   "execution_count": 33,
   "id": "7878f4c2",
   "metadata": {},
   "outputs": [
    {
     "ename": "NameError",
     "evalue": "name 'sample_pac' is not defined",
     "output_type": "error",
     "traceback": [
      "\u001b[1;31m---------------------------------------------------------------------------\u001b[0m",
      "\u001b[1;31mNameError\u001b[0m                                 Traceback (most recent call last)",
      "Cell \u001b[1;32mIn[33], line 1\u001b[0m\n\u001b[1;32m----> 1\u001b[0m \u001b[43msample_pac\u001b[49m\u001b[38;5;241m.\u001b[39mtest()\n",
      "\u001b[1;31mNameError\u001b[0m: name 'sample_pac' is not defined"
     ]
    }
   ],
   "source": [
    "sample_pac.test()"
   ]
  },
  {
   "cell_type": "code",
   "execution_count": null,
   "id": "12adef28",
   "metadata": {},
   "outputs": [],
   "source": [
    "import sample_pac.ab # ab/__init__.py"
   ]
  },
  {
   "cell_type": "code",
   "execution_count": null,
   "id": "cb8c4aa6",
   "metadata": {},
   "outputs": [],
   "source": [
    "from sample_pac.ab import * # __init__.py의 __all__ 속성만 로드\n",
    "a.hello()"
   ]
  },
  {
   "cell_type": "code",
   "execution_count": null,
   "id": "60662157",
   "metadata": {},
   "outputs": [],
   "source": [
    "from sample_pac.ab.b import world\n",
    "world()"
   ]
  },
  {
   "cell_type": "code",
   "execution_count": null,
   "id": "caaea2b0",
   "metadata": {},
   "outputs": [],
   "source": [
    "from sample_pac.cd import c\n",
    "c.nice()"
   ]
  },
  {
   "cell_type": "code",
   "execution_count": null,
   "id": "f7fa2d1d",
   "metadata": {},
   "outputs": [],
   "source": [
    "c.a.hello()"
   ]
  },
  {
   "cell_type": "markdown",
   "id": "60f3c671",
   "metadata": {},
   "source": [
    "# 4절 패키지 설치 및 삭제\n",
    "- 패키지 설치 : pip install 패키지명[==버전] / conda install 패키지명[==버전]\n",
    "- 패키지 확인 : pip show 패키지명            / condalist 패키지명\n",
    "- 패키지 삭제 : pip uninstall 패키지명       / condaremove 패키지명"
   ]
  },
  {
   "cell_type": "code",
   "execution_count": 42,
   "id": "09613fc4",
   "metadata": {},
   "outputs": [],
   "source": [
    "import objgraph # 메모리 사용량 출력하는 함수"
   ]
  },
  {
   "cell_type": "code",
   "execution_count": 43,
   "id": "2cfac8b8",
   "metadata": {},
   "outputs": [
    {
     "name": "stdout",
     "output_type": "stream",
     "text": [
      "dict          34259\n",
      "list          28062\n",
      "function      18550\n",
      "Token         16823\n",
      "tuple         13175\n",
      "Operator      10461\n",
      "Name          9420\n",
      "PythonNode    6698\n",
      "ReferenceType 5505\n",
      "DFAPlan       5418\n"
     ]
    }
   ],
   "source": [
    "objgraph.show_most_common_types()"
   ]
  },
  {
   "cell_type": "markdown",
   "id": "8eb05d44",
   "metadata": {},
   "source": [
    "# 5절 연습문제"
   ]
  },
  {
   "cell_type": "code",
   "execution_count": null,
   "id": "2b5c7889",
   "metadata": {},
   "outputs": [],
   "source": []
  },
  {
   "cell_type": "code",
   "execution_count": null,
   "id": "9f88d468",
   "metadata": {},
   "outputs": [],
   "source": []
  },
  {
   "cell_type": "code",
   "execution_count": null,
   "id": "6347f1c7",
   "metadata": {},
   "outputs": [],
   "source": []
  },
  {
   "cell_type": "code",
   "execution_count": null,
   "id": "70c94fb6",
   "metadata": {},
   "outputs": [],
   "source": []
  },
  {
   "cell_type": "code",
   "execution_count": null,
   "id": "895db65e",
   "metadata": {},
   "outputs": [],
   "source": []
  },
  {
   "cell_type": "code",
   "execution_count": null,
   "id": "90f661a7",
   "metadata": {},
   "outputs": [],
   "source": []
  },
  {
   "cell_type": "code",
   "execution_count": null,
   "id": "57bd14a3",
   "metadata": {},
   "outputs": [],
   "source": []
  },
  {
   "cell_type": "code",
   "execution_count": null,
   "id": "3108d7c9",
   "metadata": {},
   "outputs": [],
   "source": []
  },
  {
   "cell_type": "code",
   "execution_count": null,
   "id": "55db985a",
   "metadata": {},
   "outputs": [],
   "source": []
  },
  {
   "cell_type": "code",
   "execution_count": null,
   "id": "f98e8383",
   "metadata": {},
   "outputs": [],
   "source": []
  },
  {
   "cell_type": "code",
   "execution_count": null,
   "id": "7fcce116",
   "metadata": {},
   "outputs": [],
   "source": []
  },
  {
   "cell_type": "code",
   "execution_count": null,
   "id": "157c9ade",
   "metadata": {},
   "outputs": [],
   "source": []
  },
  {
   "cell_type": "code",
   "execution_count": null,
   "id": "01c2faf9",
   "metadata": {},
   "outputs": [],
   "source": []
  },
  {
   "cell_type": "code",
   "execution_count": null,
   "id": "e0c1500e",
   "metadata": {},
   "outputs": [],
   "source": []
  },
  {
   "cell_type": "code",
   "execution_count": null,
   "id": "908fa146",
   "metadata": {},
   "outputs": [],
   "source": []
  },
  {
   "cell_type": "code",
   "execution_count": null,
   "id": "f41f351a",
   "metadata": {},
   "outputs": [],
   "source": []
  }
 ],
 "metadata": {
  "kernelspec": {
   "display_name": "Python 3 (ipykernel)",
   "language": "python",
   "name": "python3"
  },
  "language_info": {
   "codemirror_mode": {
    "name": "ipython",
    "version": 3
   },
   "file_extension": ".py",
   "mimetype": "text/x-python",
   "name": "python",
   "nbconvert_exporter": "python",
   "pygments_lexer": "ipython3",
   "version": "3.10.9"
  },
  "toc": {
   "base_numbering": 1,
   "nav_menu": {},
   "number_sections": false,
   "sideBar": true,
   "skip_h1_title": false,
   "title_cell": "Table of Contents",
   "title_sidebar": "Contents",
   "toc_cell": false,
   "toc_position": {
    "height": "calc(100% - 180px)",
    "left": "10px",
    "top": "150px",
    "width": "266px"
   },
   "toc_section_display": true,
   "toc_window_display": true
  }
 },
 "nbformat": 4,
 "nbformat_minor": 5
}
